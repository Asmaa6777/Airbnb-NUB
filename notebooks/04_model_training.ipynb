{
 "cells": [
  {
   "cell_type": "markdown",
   "id": "cc07447e",
   "metadata": {},
   "source": [
    "# Model Selection & Training\n",
    "\n",
    "**Objective:** Train and tune models to predict Airbnb new user booking destinations.\n",
    "\n",
    "In this notebook, we will:\n",
    "1. Load the preprocessed data\n",
    "2. Split the data into training and validation sets\n",
    "3. Train various machine learning models\n",
    "4. Tune hyperparameters using cross-validation\n",
    "5. Save the trained models for later evaluation"
   ]
  },
  {
   "cell_type": "markdown",
   "id": "4dd66040",
   "metadata": {},
   "source": [
    "## 1. Import Required Libraries"
   ]
  },
  {
   "cell_type": "code",
   "execution_count": 1,
   "id": "e7bb941a",
   "metadata": {},
   "outputs": [],
   "source": [
    "# Import standard libraries\n",
    "import numpy as np\n",
    "import pandas as pd\n",
    "import matplotlib.pyplot as plt\n",
    "import seaborn as sns\n",
    "import pickle\n",
    "import os\n",
    "from datetime import datetime\n",
    "\n",
    "# Import ML libraries\n",
    "from sklearn.model_selection import train_test_split, GridSearchCV, StratifiedKFold, cross_val_score\n",
    "from sklearn.metrics import accuracy_score, f1_score, confusion_matrix, classification_report\n",
    "from sklearn.linear_model import LogisticRegression\n",
    "from sklearn.ensemble import RandomForestClassifier\n",
    "import xgboost as xgb\n",
    "import lightgbm as lgb\n",
    "\n",
    "# For hyperparameter optimization\n",
    "import optuna\n",
    "\n",
    "# Visualization settings\n",
    "sns.set(style=\"whitegrid\", palette=\"muted\")\n",
    "\n",
    "# Display progress bars for longer operations\n",
    "from tqdm.notebook import tqdm\n",
    "\n",
    "# Ignore warnings\n",
    "import warnings\n",
    "warnings.filterwarnings('ignore')"
   ]
  },
  {
   "cell_type": "markdown",
   "id": "89d226ac",
   "metadata": {},
   "source": [
    "## 2. Load Preprocessed Data"
   ]
  },
  {
   "cell_type": "code",
   "execution_count": 2,
   "id": "bbdf8768",
   "metadata": {},
   "outputs": [
    {
     "name": "stdout",
     "output_type": "stream",
     "text": [
      "Loaded preprocessed data with shape: (213451, 197)\n"
     ]
    }
   ],
   "source": [
    "# Load the preprocessed training data\n",
    "processed_data_path = '../data/processed/train_processed.csv'\n",
    "\n",
    "if os.path.exists(processed_data_path):\n",
    "    df = pd.read_csv(processed_data_path)\n",
    "    print(f\"Loaded preprocessed data with shape: {df.shape}\")\n",
    "else:\n",
    "    print(f\"Error: Preprocessed data file not found at {processed_data_path}\")\n",
    "    print(\"Please run the 03_preprocessing.ipynb notebook first.\")"
   ]
  },
  {
   "cell_type": "code",
   "execution_count": 3,
   "id": "afcd4f36",
   "metadata": {},
   "outputs": [
    {
     "data": {
      "application/vnd.microsoft.datawrangler.viewer.v0+json": {
       "columns": [
        {
         "name": "index",
         "rawType": "int64",
         "type": "integer"
        },
        {
         "name": "id",
         "rawType": "object",
         "type": "string"
        },
        {
         "name": "age",
         "rawType": "float64",
         "type": "float"
        },
        {
         "name": "signup_flow",
         "rawType": "int64",
         "type": "integer"
        },
        {
         "name": "country_destination",
         "rawType": "object",
         "type": "string"
        },
        {
         "name": "dac_year",
         "rawType": "int64",
         "type": "integer"
        },
        {
         "name": "dac_month",
         "rawType": "int64",
         "type": "integer"
        },
        {
         "name": "dac_day",
         "rawType": "int64",
         "type": "integer"
        },
        {
         "name": "dac_dayofweek",
         "rawType": "int64",
         "type": "integer"
        },
        {
         "name": "dac_is_weekend",
         "rawType": "int64",
         "type": "integer"
        },
        {
         "name": "dac_quarter",
         "rawType": "int64",
         "type": "integer"
        },
        {
         "name": "tfa_year",
         "rawType": "int64",
         "type": "integer"
        },
        {
         "name": "tfa_month",
         "rawType": "int64",
         "type": "integer"
        },
        {
         "name": "tfa_day",
         "rawType": "int64",
         "type": "integer"
        },
        {
         "name": "tfa_hour",
         "rawType": "int64",
         "type": "integer"
        },
        {
         "name": "tfa_dayofweek",
         "rawType": "int64",
         "type": "integer"
        },
        {
         "name": "tfa_is_weekend",
         "rawType": "int64",
         "type": "integer"
        },
        {
         "name": "tfa_quarter",
         "rawType": "int64",
         "type": "integer"
        },
        {
         "name": "days_between_first_active_and_account_created",
         "rawType": "float64",
         "type": "float"
        },
        {
         "name": "total_sessions",
         "rawType": "float64",
         "type": "float"
        },
        {
         "name": "total_secs_elapsed",
         "rawType": "float64",
         "type": "float"
        },
        {
         "name": "avg_secs_elapsed",
         "rawType": "float64",
         "type": "float"
        },
        {
         "name": "most_common_action",
         "rawType": "object",
         "type": "unknown"
        },
        {
         "name": "action_diversity",
         "rawType": "float64",
         "type": "float"
        },
        {
         "name": "action_type_diversity",
         "rawType": "float64",
         "type": "float"
        },
        {
         "name": "device_diversity",
         "rawType": "float64",
         "type": "float"
        },
        {
         "name": "most_common_action_encoded",
         "rawType": "int64",
         "type": "integer"
        },
        {
         "name": "gender_FEMALE",
         "rawType": "bool",
         "type": "boolean"
        },
        {
         "name": "gender_MALE",
         "rawType": "bool",
         "type": "boolean"
        },
        {
         "name": "gender_OTHER",
         "rawType": "bool",
         "type": "boolean"
        },
        {
         "name": "signup_method_facebook",
         "rawType": "bool",
         "type": "boolean"
        },
        {
         "name": "signup_method_google",
         "rawType": "bool",
         "type": "boolean"
        },
        {
         "name": "language_cs",
         "rawType": "bool",
         "type": "boolean"
        },
        {
         "name": "language_da",
         "rawType": "bool",
         "type": "boolean"
        },
        {
         "name": "language_de",
         "rawType": "bool",
         "type": "boolean"
        },
        {
         "name": "language_el",
         "rawType": "bool",
         "type": "boolean"
        },
        {
         "name": "language_en",
         "rawType": "bool",
         "type": "boolean"
        },
        {
         "name": "language_es",
         "rawType": "bool",
         "type": "boolean"
        },
        {
         "name": "language_fi",
         "rawType": "bool",
         "type": "boolean"
        },
        {
         "name": "language_fr",
         "rawType": "bool",
         "type": "boolean"
        },
        {
         "name": "language_hr",
         "rawType": "bool",
         "type": "boolean"
        },
        {
         "name": "language_hu",
         "rawType": "bool",
         "type": "boolean"
        },
        {
         "name": "language_id",
         "rawType": "bool",
         "type": "boolean"
        },
        {
         "name": "language_is",
         "rawType": "bool",
         "type": "boolean"
        },
        {
         "name": "language_it",
         "rawType": "bool",
         "type": "boolean"
        },
        {
         "name": "language_ja",
         "rawType": "bool",
         "type": "boolean"
        },
        {
         "name": "language_ko",
         "rawType": "bool",
         "type": "boolean"
        },
        {
         "name": "language_nl",
         "rawType": "bool",
         "type": "boolean"
        },
        {
         "name": "language_no",
         "rawType": "bool",
         "type": "boolean"
        },
        {
         "name": "language_pl",
         "rawType": "bool",
         "type": "boolean"
        },
        {
         "name": "language_pt",
         "rawType": "bool",
         "type": "boolean"
        },
        {
         "name": "language_ru",
         "rawType": "bool",
         "type": "boolean"
        },
        {
         "name": "language_sv",
         "rawType": "bool",
         "type": "boolean"
        },
        {
         "name": "language_th",
         "rawType": "bool",
         "type": "boolean"
        },
        {
         "name": "language_tr",
         "rawType": "bool",
         "type": "boolean"
        },
        {
         "name": "language_zh",
         "rawType": "bool",
         "type": "boolean"
        },
        {
         "name": "affiliate_channel_content",
         "rawType": "bool",
         "type": "boolean"
        },
        {
         "name": "affiliate_channel_direct",
         "rawType": "bool",
         "type": "boolean"
        },
        {
         "name": "affiliate_channel_other",
         "rawType": "bool",
         "type": "boolean"
        },
        {
         "name": "affiliate_channel_remarketing",
         "rawType": "bool",
         "type": "boolean"
        },
        {
         "name": "affiliate_channel_sem-brand",
         "rawType": "bool",
         "type": "boolean"
        },
        {
         "name": "affiliate_channel_sem-non-brand",
         "rawType": "bool",
         "type": "boolean"
        },
        {
         "name": "affiliate_channel_seo",
         "rawType": "bool",
         "type": "boolean"
        },
        {
         "name": "affiliate_provider_bing",
         "rawType": "bool",
         "type": "boolean"
        },
        {
         "name": "affiliate_provider_craigslist",
         "rawType": "bool",
         "type": "boolean"
        },
        {
         "name": "affiliate_provider_daum",
         "rawType": "bool",
         "type": "boolean"
        },
        {
         "name": "affiliate_provider_direct",
         "rawType": "bool",
         "type": "boolean"
        },
        {
         "name": "affiliate_provider_email-marketing",
         "rawType": "bool",
         "type": "boolean"
        },
        {
         "name": "affiliate_provider_facebook",
         "rawType": "bool",
         "type": "boolean"
        },
        {
         "name": "affiliate_provider_facebook-open-graph",
         "rawType": "bool",
         "type": "boolean"
        },
        {
         "name": "affiliate_provider_google",
         "rawType": "bool",
         "type": "boolean"
        },
        {
         "name": "affiliate_provider_gsp",
         "rawType": "bool",
         "type": "boolean"
        },
        {
         "name": "affiliate_provider_meetup",
         "rawType": "bool",
         "type": "boolean"
        },
        {
         "name": "affiliate_provider_naver",
         "rawType": "bool",
         "type": "boolean"
        },
        {
         "name": "affiliate_provider_other",
         "rawType": "bool",
         "type": "boolean"
        },
        {
         "name": "affiliate_provider_padmapper",
         "rawType": "bool",
         "type": "boolean"
        },
        {
         "name": "affiliate_provider_vast",
         "rawType": "bool",
         "type": "boolean"
        },
        {
         "name": "affiliate_provider_wayn",
         "rawType": "bool",
         "type": "boolean"
        },
        {
         "name": "affiliate_provider_yahoo",
         "rawType": "bool",
         "type": "boolean"
        },
        {
         "name": "affiliate_provider_yandex",
         "rawType": "bool",
         "type": "boolean"
        },
        {
         "name": "first_affiliate_tracked_local ops",
         "rawType": "bool",
         "type": "boolean"
        },
        {
         "name": "first_affiliate_tracked_marketing",
         "rawType": "bool",
         "type": "boolean"
        },
        {
         "name": "first_affiliate_tracked_omg",
         "rawType": "bool",
         "type": "boolean"
        },
        {
         "name": "first_affiliate_tracked_product",
         "rawType": "bool",
         "type": "boolean"
        },
        {
         "name": "first_affiliate_tracked_tracked-other",
         "rawType": "bool",
         "type": "boolean"
        },
        {
         "name": "first_affiliate_tracked_untracked",
         "rawType": "bool",
         "type": "boolean"
        },
        {
         "name": "signup_app_Moweb",
         "rawType": "bool",
         "type": "boolean"
        },
        {
         "name": "signup_app_Web",
         "rawType": "bool",
         "type": "boolean"
        },
        {
         "name": "signup_app_iOS",
         "rawType": "bool",
         "type": "boolean"
        },
        {
         "name": "first_device_type_Android Tablet",
         "rawType": "bool",
         "type": "boolean"
        },
        {
         "name": "first_device_type_Desktop (Other)",
         "rawType": "bool",
         "type": "boolean"
        },
        {
         "name": "first_device_type_Mac Desktop",
         "rawType": "bool",
         "type": "boolean"
        },
        {
         "name": "first_device_type_Other/Unknown",
         "rawType": "bool",
         "type": "boolean"
        },
        {
         "name": "first_device_type_SmartPhone (Other)",
         "rawType": "bool",
         "type": "boolean"
        },
        {
         "name": "first_device_type_Windows Desktop",
         "rawType": "bool",
         "type": "boolean"
        },
        {
         "name": "first_device_type_iPad",
         "rawType": "bool",
         "type": "boolean"
        },
        {
         "name": "first_device_type_iPhone",
         "rawType": "bool",
         "type": "boolean"
        },
        {
         "name": "first_browser_AOL Explorer",
         "rawType": "bool",
         "type": "boolean"
        },
        {
         "name": "first_browser_Android Browser",
         "rawType": "bool",
         "type": "boolean"
        },
        {
         "name": "first_browser_Apple Mail",
         "rawType": "bool",
         "type": "boolean"
        },
        {
         "name": "first_browser_Arora",
         "rawType": "bool",
         "type": "boolean"
        },
        {
         "name": "first_browser_Avant Browser",
         "rawType": "bool",
         "type": "boolean"
        },
        {
         "name": "first_browser_BlackBerry Browser",
         "rawType": "bool",
         "type": "boolean"
        },
        {
         "name": "first_browser_Camino",
         "rawType": "bool",
         "type": "boolean"
        },
        {
         "name": "first_browser_Chrome",
         "rawType": "bool",
         "type": "boolean"
        },
        {
         "name": "first_browser_Chrome Mobile",
         "rawType": "bool",
         "type": "boolean"
        },
        {
         "name": "first_browser_Chromium",
         "rawType": "bool",
         "type": "boolean"
        },
        {
         "name": "first_browser_CometBird",
         "rawType": "bool",
         "type": "boolean"
        },
        {
         "name": "first_browser_Comodo Dragon",
         "rawType": "bool",
         "type": "boolean"
        },
        {
         "name": "first_browser_Conkeror",
         "rawType": "bool",
         "type": "boolean"
        },
        {
         "name": "first_browser_CoolNovo",
         "rawType": "bool",
         "type": "boolean"
        },
        {
         "name": "first_browser_Crazy Browser",
         "rawType": "bool",
         "type": "boolean"
        },
        {
         "name": "first_browser_Epic",
         "rawType": "bool",
         "type": "boolean"
        },
        {
         "name": "first_browser_Firefox",
         "rawType": "bool",
         "type": "boolean"
        },
        {
         "name": "first_browser_Flock",
         "rawType": "bool",
         "type": "boolean"
        },
        {
         "name": "first_browser_Google Earth",
         "rawType": "bool",
         "type": "boolean"
        },
        {
         "name": "first_browser_Googlebot",
         "rawType": "bool",
         "type": "boolean"
        },
        {
         "name": "first_browser_IE",
         "rawType": "bool",
         "type": "boolean"
        },
        {
         "name": "first_browser_IE Mobile",
         "rawType": "bool",
         "type": "boolean"
        },
        {
         "name": "first_browser_IceDragon",
         "rawType": "bool",
         "type": "boolean"
        },
        {
         "name": "first_browser_IceWeasel",
         "rawType": "bool",
         "type": "boolean"
        },
        {
         "name": "first_browser_Iron",
         "rawType": "bool",
         "type": "boolean"
        },
        {
         "name": "first_browser_Kindle Browser",
         "rawType": "bool",
         "type": "boolean"
        },
        {
         "name": "first_browser_Maxthon",
         "rawType": "bool",
         "type": "boolean"
        },
        {
         "name": "first_browser_Mobile Firefox",
         "rawType": "bool",
         "type": "boolean"
        },
        {
         "name": "first_browser_Mobile Safari",
         "rawType": "bool",
         "type": "boolean"
        },
        {
         "name": "first_browser_Mozilla",
         "rawType": "bool",
         "type": "boolean"
        },
        {
         "name": "first_browser_NetNewsWire",
         "rawType": "bool",
         "type": "boolean"
        },
        {
         "name": "first_browser_OmniWeb",
         "rawType": "bool",
         "type": "boolean"
        },
        {
         "name": "first_browser_Opera",
         "rawType": "bool",
         "type": "boolean"
        },
        {
         "name": "first_browser_Opera Mini",
         "rawType": "bool",
         "type": "boolean"
        },
        {
         "name": "first_browser_Opera Mobile",
         "rawType": "bool",
         "type": "boolean"
        },
        {
         "name": "first_browser_Outlook 2007",
         "rawType": "bool",
         "type": "boolean"
        },
        {
         "name": "first_browser_PS Vita browser",
         "rawType": "bool",
         "type": "boolean"
        },
        {
         "name": "first_browser_Pale Moon",
         "rawType": "bool",
         "type": "boolean"
        },
        {
         "name": "first_browser_Palm Pre web browser",
         "rawType": "bool",
         "type": "boolean"
        },
        {
         "name": "first_browser_RockMelt",
         "rawType": "bool",
         "type": "boolean"
        },
        {
         "name": "first_browser_Safari",
         "rawType": "bool",
         "type": "boolean"
        },
        {
         "name": "first_browser_SeaMonkey",
         "rawType": "bool",
         "type": "boolean"
        },
        {
         "name": "first_browser_Silk",
         "rawType": "bool",
         "type": "boolean"
        },
        {
         "name": "first_browser_SiteKiosk",
         "rawType": "bool",
         "type": "boolean"
        },
        {
         "name": "first_browser_SlimBrowser",
         "rawType": "bool",
         "type": "boolean"
        },
        {
         "name": "first_browser_Sogou Explorer",
         "rawType": "bool",
         "type": "boolean"
        },
        {
         "name": "first_browser_Stainless",
         "rawType": "bool",
         "type": "boolean"
        },
        {
         "name": "first_browser_TenFourFox",
         "rawType": "bool",
         "type": "boolean"
        },
        {
         "name": "first_browser_TheWorld Browser",
         "rawType": "bool",
         "type": "boolean"
        },
        {
         "name": "first_browser_Yandex.Browser",
         "rawType": "bool",
         "type": "boolean"
        },
        {
         "name": "first_browser_wOSBrowser",
         "rawType": "bool",
         "type": "boolean"
        },
        {
         "name": "most_common_action_type_-unknown-",
         "rawType": "bool",
         "type": "boolean"
        },
        {
         "name": "most_common_action_type_booking_request",
         "rawType": "bool",
         "type": "boolean"
        },
        {
         "name": "most_common_action_type_click",
         "rawType": "bool",
         "type": "boolean"
        },
        {
         "name": "most_common_action_type_data",
         "rawType": "bool",
         "type": "boolean"
        },
        {
         "name": "most_common_action_type_message_post",
         "rawType": "bool",
         "type": "boolean"
        },
        {
         "name": "most_common_action_type_partner_callback",
         "rawType": "bool",
         "type": "boolean"
        },
        {
         "name": "most_common_action_type_submit",
         "rawType": "bool",
         "type": "boolean"
        },
        {
         "name": "most_common_action_type_view",
         "rawType": "bool",
         "type": "boolean"
        },
        {
         "name": "most_common_device_-unknown-",
         "rawType": "bool",
         "type": "boolean"
        },
        {
         "name": "most_common_device_Android App Unknown Phone/Tablet",
         "rawType": "bool",
         "type": "boolean"
        },
        {
         "name": "most_common_device_Android Phone",
         "rawType": "bool",
         "type": "boolean"
        },
        {
         "name": "most_common_device_Blackberry",
         "rawType": "bool",
         "type": "boolean"
        },
        {
         "name": "most_common_device_Chromebook",
         "rawType": "bool",
         "type": "boolean"
        },
        {
         "name": "most_common_device_Linux Desktop",
         "rawType": "bool",
         "type": "boolean"
        },
        {
         "name": "most_common_device_Mac Desktop",
         "rawType": "bool",
         "type": "boolean"
        },
        {
         "name": "most_common_device_Tablet",
         "rawType": "bool",
         "type": "boolean"
        },
        {
         "name": "most_common_device_Windows Desktop",
         "rawType": "bool",
         "type": "boolean"
        },
        {
         "name": "most_common_device_Windows Phone",
         "rawType": "bool",
         "type": "boolean"
        },
        {
         "name": "most_common_device_iPad Tablet",
         "rawType": "bool",
         "type": "boolean"
        },
        {
         "name": "most_common_device_iPhone",
         "rawType": "bool",
         "type": "boolean"
        },
        {
         "name": "most_common_device_iPodtouch",
         "rawType": "bool",
         "type": "boolean"
        },
        {
         "name": "age_group_Middle-Aged",
         "rawType": "bool",
         "type": "boolean"
        },
        {
         "name": "age_group_Senior",
         "rawType": "bool",
         "type": "boolean"
        },
        {
         "name": "age_group_Young Adult",
         "rawType": "bool",
         "type": "boolean"
        },
        {
         "name": "signup_method_flow_basic_1",
         "rawType": "bool",
         "type": "boolean"
        },
        {
         "name": "signup_method_flow_basic_10",
         "rawType": "bool",
         "type": "boolean"
        },
        {
         "name": "signup_method_flow_basic_12",
         "rawType": "bool",
         "type": "boolean"
        },
        {
         "name": "signup_method_flow_basic_15",
         "rawType": "bool",
         "type": "boolean"
        },
        {
         "name": "signup_method_flow_basic_2",
         "rawType": "bool",
         "type": "boolean"
        },
        {
         "name": "signup_method_flow_basic_20",
         "rawType": "bool",
         "type": "boolean"
        },
        {
         "name": "signup_method_flow_basic_23",
         "rawType": "bool",
         "type": "boolean"
        },
        {
         "name": "signup_method_flow_basic_24",
         "rawType": "bool",
         "type": "boolean"
        },
        {
         "name": "signup_method_flow_basic_25",
         "rawType": "bool",
         "type": "boolean"
        },
        {
         "name": "signup_method_flow_basic_3",
         "rawType": "bool",
         "type": "boolean"
        },
        {
         "name": "signup_method_flow_basic_5",
         "rawType": "bool",
         "type": "boolean"
        },
        {
         "name": "signup_method_flow_basic_6",
         "rawType": "bool",
         "type": "boolean"
        },
        {
         "name": "signup_method_flow_basic_8",
         "rawType": "bool",
         "type": "boolean"
        },
        {
         "name": "signup_method_flow_facebook_0",
         "rawType": "bool",
         "type": "boolean"
        },
        {
         "name": "signup_method_flow_facebook_1",
         "rawType": "bool",
         "type": "boolean"
        },
        {
         "name": "signup_method_flow_facebook_12",
         "rawType": "bool",
         "type": "boolean"
        },
        {
         "name": "signup_method_flow_facebook_16",
         "rawType": "bool",
         "type": "boolean"
        },
        {
         "name": "signup_method_flow_facebook_2",
         "rawType": "bool",
         "type": "boolean"
        },
        {
         "name": "signup_method_flow_facebook_21",
         "rawType": "bool",
         "type": "boolean"
        },
        {
         "name": "signup_method_flow_facebook_23",
         "rawType": "bool",
         "type": "boolean"
        },
        {
         "name": "signup_method_flow_facebook_24",
         "rawType": "bool",
         "type": "boolean"
        },
        {
         "name": "signup_method_flow_facebook_25",
         "rawType": "bool",
         "type": "boolean"
        },
        {
         "name": "signup_method_flow_facebook_3",
         "rawType": "bool",
         "type": "boolean"
        },
        {
         "name": "signup_method_flow_facebook_4",
         "rawType": "bool",
         "type": "boolean"
        },
        {
         "name": "signup_method_flow_facebook_5",
         "rawType": "bool",
         "type": "boolean"
        },
        {
         "name": "signup_method_flow_google_12",
         "rawType": "bool",
         "type": "boolean"
        }
       ],
       "conversionMethod": "pd.DataFrame",
       "ref": "3bdb1cf4-0b00-4433-bc31-5f9268f42139",
       "rows": [
        [
         "0",
         "gxn3p5htnn",
         "-0.1645567046276089",
         "0",
         "NDF",
         "2010",
         "6",
         "28",
         "0",
         "0",
         "2",
         "2009",
         "3",
         "19",
         "4",
         "3",
         "0",
         "1",
         "38.99827234176843",
         "-0.345060887145437",
         "-0.3919961742893394",
         "-0.2888408807428379",
         "0",
         "-0.5707908817528119",
         "-0.6810852528985957",
         "-0.6436927055995842",
         "16",
         "False",
         "False",
         "False",
         "True",
         "False",
         "False",
         "False",
         "False",
         "False",
         "True",
         "False",
         "False",
         "False",
         "False",
         "False",
         "False",
         "False",
         "False",
         "False",
         "False",
         "False",
         "False",
         "False",
         "False",
         "False",
         "False",
         "False",
         "False",
         "False",
         "False",
         "True",
         "False",
         "False",
         "False",
         "False",
         "False",
         "False",
         "False",
         "False",
         "True",
         "False",
         "False",
         "False",
         "False",
         "False",
         "False",
         "False",
         "False",
         "False",
         "False",
         "False",
         "False",
         "False",
         "False",
         "False",
         "False",
         "False",
         "False",
         "True",
         "False",
         "True",
         "False",
         "False",
         "False",
         "True",
         "False",
         "False",
         "False",
         "False",
         "False",
         "False",
         "False",
         "False",
         "False",
         "False",
         "False",
         "False",
         "True",
         "False",
         "False",
         "False",
         "False",
         "False",
         "False",
         "False",
         "False",
         "False",
         "False",
         "False",
         "False",
         "False",
         "False",
         "False",
         "False",
         "False",
         "False",
         "False",
         "False",
         "False",
         "False",
         "False",
         "False",
         "False",
         "False",
         "False",
         "False",
         "False",
         "False",
         "False",
         "False",
         "False",
         "False",
         "False",
         "False",
         "False",
         "False",
         "False",
         "False",
         "False",
         "False",
         "False",
         "False",
         "False",
         "False",
         "False",
         "False",
         "False",
         "False",
         "False",
         "False",
         "False",
         "False",
         "False",
         "False",
         "False",
         "False",
         "False",
         "False",
         "False",
         "False",
         "False",
         "False",
         "False",
         "False",
         "False",
         "False",
         "False",
         "False",
         "False",
         "False",
         "False",
         "False",
         "False",
         "False",
         "False",
         "False",
         "False",
         "False",
         "True",
         "False",
         "False",
         "False",
         "False",
         "False",
         "False",
         "False",
         "False",
         "False",
         "False",
         "False",
         "False"
        ],
        [
         "1",
         "820tgsjxq7",
         "0.2815658881628521",
         "0",
         "NDF",
         "2011",
         "5",
         "25",
         "2",
         "0",
         "2",
         "2009",
         "5",
         "23",
         "17",
         "5",
         "1",
         "2",
         "61.20764827252129",
         "-0.345060887145437",
         "-0.3919961742893394",
         "-0.2888408807428379",
         "0",
         "-0.5707908817528119",
         "-0.6810852528985957",
         "-0.6436927055995842",
         "16",
         "False",
         "True",
         "False",
         "True",
         "False",
         "False",
         "False",
         "False",
         "False",
         "True",
         "False",
         "False",
         "False",
         "False",
         "False",
         "False",
         "False",
         "False",
         "False",
         "False",
         "False",
         "False",
         "False",
         "False",
         "False",
         "False",
         "False",
         "False",
         "False",
         "False",
         "False",
         "False",
         "False",
         "False",
         "False",
         "True",
         "False",
         "False",
         "False",
         "False",
         "False",
         "False",
         "False",
         "True",
         "False",
         "False",
         "False",
         "False",
         "False",
         "False",
         "False",
         "False",
         "False",
         "False",
         "False",
         "False",
         "False",
         "False",
         "True",
         "False",
         "True",
         "False",
         "False",
         "False",
         "True",
         "False",
         "False",
         "False",
         "False",
         "False",
         "False",
         "False",
         "False",
         "False",
         "False",
         "False",
         "False",
         "True",
         "False",
         "False",
         "False",
         "False",
         "False",
         "False",
         "False",
         "False",
         "False",
         "False",
         "False",
         "False",
         "False",
         "False",
         "False",
         "False",
         "False",
         "False",
         "False",
         "False",
         "False",
         "False",
         "False",
         "False",
         "False",
         "False",
         "False",
         "False",
         "False",
         "False",
         "False",
         "False",
         "False",
         "False",
         "False",
         "False",
         "False",
         "False",
         "False",
         "False",
         "False",
         "False",
         "False",
         "False",
         "False",
         "False",
         "False",
         "False",
         "False",
         "False",
         "False",
         "False",
         "False",
         "False",
         "False",
         "False",
         "False",
         "False",
         "False",
         "False",
         "False",
         "False",
         "False",
         "False",
         "False",
         "False",
         "False",
         "False",
         "False",
         "False",
         "False",
         "False",
         "False",
         "False",
         "False",
         "False",
         "False",
         "False",
         "False",
         "False",
         "True",
         "False",
         "False",
         "False",
         "False",
         "False",
         "False",
         "False",
         "False",
         "False",
         "False",
         "False",
         "False"
        ],
        [
         "2",
         "4ft3gnwmtx",
         "2.289117555719927",
         "3",
         "US",
         "2010",
         "9",
         "28",
         "1",
         "0",
         "3",
         "2009",
         "6",
         "9",
         "23",
         "1",
         "0",
         "2",
         "39.76988126707185",
         "-0.345060887145437",
         "-0.3919961742893394",
         "-0.2888408807428379",
         "0",
         "-0.5707908817528119",
         "-0.6810852528985957",
         "-0.6436927055995842",
         "16",
         "True",
         "False",
         "False",
         "False",
         "False",
         "False",
         "False",
         "False",
         "False",
         "True",
         "False",
         "False",
         "False",
         "False",
         "False",
         "False",
         "False",
         "False",
         "False",
         "False",
         "False",
         "False",
         "False",
         "False",
         "False",
         "False",
         "False",
         "False",
         "False",
         "False",
         "True",
         "False",
         "False",
         "False",
         "False",
         "False",
         "False",
         "False",
         "False",
         "True",
         "False",
         "False",
         "False",
         "False",
         "False",
         "False",
         "False",
         "False",
         "False",
         "False",
         "False",
         "False",
         "False",
         "False",
         "False",
         "False",
         "False",
         "False",
         "True",
         "False",
         "True",
         "False",
         "False",
         "False",
         "False",
         "False",
         "False",
         "True",
         "False",
         "False",
         "False",
         "False",
         "False",
         "False",
         "False",
         "False",
         "False",
         "False",
         "False",
         "False",
         "False",
         "False",
         "False",
         "False",
         "False",
         "False",
         "False",
         "False",
         "False",
         "False",
         "True",
         "False",
         "False",
         "False",
         "False",
         "False",
         "False",
         "False",
         "False",
         "False",
         "False",
         "False",
         "False",
         "False",
         "False",
         "False",
         "False",
         "False",
         "False",
         "False",
         "False",
         "False",
         "False",
         "False",
         "False",
         "False",
         "False",
         "False",
         "False",
         "False",
         "False",
         "False",
         "False",
         "False",
         "False",
         "False",
         "False",
         "False",
         "False",
         "False",
         "False",
         "False",
         "False",
         "False",
         "False",
         "False",
         "False",
         "False",
         "False",
         "False",
         "False",
         "False",
         "True",
         "False",
         "False",
         "False",
         "False",
         "False",
         "False",
         "False",
         "False",
         "False",
         "False",
         "False",
         "True",
         "False",
         "False",
         "False",
         "False",
         "False",
         "False",
         "False",
         "False",
         "False",
         "False",
         "False",
         "False",
         "False",
         "False",
         "False",
         "False"
        ],
        [
         "3",
         "bjjt8pjhuk",
         "0.7276884809533133",
         "0",
         "other",
         "2011",
         "12",
         "5",
         "0",
         "0",
         "4",
         "2009",
         "10",
         "31",
         "6",
         "5",
         "1",
         "4",
         "64.00973809373038",
         "-0.345060887145437",
         "-0.3919961742893394",
         "-0.2888408807428379",
         "0",
         "-0.5707908817528119",
         "-0.6810852528985957",
         "-0.6436927055995842",
         "16",
         "True",
         "False",
         "False",
         "True",
         "False",
         "False",
         "False",
         "False",
         "False",
         "True",
         "False",
         "False",
         "False",
         "False",
         "False",
         "False",
         "False",
         "False",
         "False",
         "False",
         "False",
         "False",
         "False",
         "False",
         "False",
         "False",
         "False",
         "False",
         "False",
         "False",
         "True",
         "False",
         "False",
         "False",
         "False",
         "False",
         "False",
         "False",
         "False",
         "True",
         "False",
         "False",
         "False",
         "False",
         "False",
         "False",
         "False",
         "False",
         "False",
         "False",
         "False",
         "False",
         "False",
         "False",
         "False",
         "False",
         "False",
         "False",
         "True",
         "False",
         "True",
         "False",
         "False",
         "False",
         "True",
         "False",
         "False",
         "False",
         "False",
         "False",
         "False",
         "False",
         "False",
         "False",
         "False",
         "False",
         "False",
         "False",
         "False",
         "False",
         "False",
         "False",
         "False",
         "False",
         "False",
         "False",
         "True",
         "False",
         "False",
         "False",
         "False",
         "False",
         "False",
         "False",
         "False",
         "False",
         "False",
         "False",
         "False",
         "False",
         "False",
         "False",
         "False",
         "False",
         "False",
         "False",
         "False",
         "False",
         "False",
         "False",
         "False",
         "False",
         "False",
         "False",
         "False",
         "False",
         "False",
         "False",
         "False",
         "False",
         "False",
         "False",
         "False",
         "False",
         "False",
         "False",
         "False",
         "False",
         "False",
         "False",
         "False",
         "False",
         "False",
         "False",
         "False",
         "False",
         "False",
         "False",
         "False",
         "False",
         "False",
         "False",
         "True",
         "False",
         "False",
         "False",
         "False",
         "False",
         "False",
         "False",
         "False",
         "False",
         "False",
         "False",
         "False",
         "False",
         "False",
         "False",
         "True",
         "False",
         "False",
         "False",
         "False",
         "False",
         "False",
         "False",
         "False",
         "False",
         "False",
         "False",
         "False"
        ],
        [
         "4",
         "87mebub9p4",
         "0.616157832755698",
         "0",
         "US",
         "2010",
         "9",
         "14",
         "1",
         "0",
         "3",
         "2009",
         "12",
         "8",
         "6",
         "1",
         "0",
         "4",
         "23.430395450765737",
         "-0.345060887145437",
         "-0.3919961742893394",
         "-0.2888408807428379",
         "0",
         "-0.5707908817528119",
         "-0.6810852528985957",
         "-0.6436927055995842",
         "16",
         "False",
         "False",
         "False",
         "False",
         "False",
         "False",
         "False",
         "False",
         "False",
         "True",
         "False",
         "False",
         "False",
         "False",
         "False",
         "False",
         "False",
         "False",
         "False",
         "False",
         "False",
         "False",
         "False",
         "False",
         "False",
         "False",
         "False",
         "False",
         "False",
         "False",
         "True",
         "False",
         "False",
         "False",
         "False",
         "False",
         "False",
         "False",
         "False",
         "True",
         "False",
         "False",
         "False",
         "False",
         "False",
         "False",
         "False",
         "False",
         "False",
         "False",
         "False",
         "False",
         "False",
         "False",
         "False",
         "False",
         "False",
         "False",
         "True",
         "False",
         "True",
         "False",
         "False",
         "False",
         "True",
         "False",
         "False",
         "False",
         "False",
         "False",
         "False",
         "False",
         "False",
         "False",
         "False",
         "False",
         "False",
         "True",
         "False",
         "False",
         "False",
         "False",
         "False",
         "False",
         "False",
         "False",
         "False",
         "False",
         "False",
         "False",
         "False",
         "False",
         "False",
         "False",
         "False",
         "False",
         "False",
         "False",
         "False",
         "False",
         "False",
         "False",
         "False",
         "False",
         "False",
         "False",
         "False",
         "False",
         "False",
         "False",
         "False",
         "False",
         "False",
         "False",
         "False",
         "False",
         "False",
         "False",
         "False",
         "False",
         "False",
         "False",
         "False",
         "False",
         "False",
         "False",
         "False",
         "False",
         "False",
         "False",
         "False",
         "False",
         "False",
         "False",
         "False",
         "False",
         "False",
         "False",
         "False",
         "False",
         "False",
         "False",
         "True",
         "False",
         "False",
         "False",
         "False",
         "False",
         "False",
         "False",
         "False",
         "False",
         "False",
         "False",
         "False",
         "False",
         "False",
         "False",
         "False",
         "False",
         "False",
         "False",
         "False",
         "False",
         "False",
         "False",
         "False",
         "False",
         "False",
         "False",
         "False"
        ]
       ],
       "shape": {
        "columns": 197,
        "rows": 5
       }
      },
      "text/html": [
       "<div>\n",
       "<style scoped>\n",
       "    .dataframe tbody tr th:only-of-type {\n",
       "        vertical-align: middle;\n",
       "    }\n",
       "\n",
       "    .dataframe tbody tr th {\n",
       "        vertical-align: top;\n",
       "    }\n",
       "\n",
       "    .dataframe thead th {\n",
       "        text-align: right;\n",
       "    }\n",
       "</style>\n",
       "<table border=\"1\" class=\"dataframe\">\n",
       "  <thead>\n",
       "    <tr style=\"text-align: right;\">\n",
       "      <th></th>\n",
       "      <th>id</th>\n",
       "      <th>age</th>\n",
       "      <th>signup_flow</th>\n",
       "      <th>country_destination</th>\n",
       "      <th>dac_year</th>\n",
       "      <th>dac_month</th>\n",
       "      <th>dac_day</th>\n",
       "      <th>dac_dayofweek</th>\n",
       "      <th>dac_is_weekend</th>\n",
       "      <th>dac_quarter</th>\n",
       "      <th>...</th>\n",
       "      <th>signup_method_flow_facebook_16</th>\n",
       "      <th>signup_method_flow_facebook_2</th>\n",
       "      <th>signup_method_flow_facebook_21</th>\n",
       "      <th>signup_method_flow_facebook_23</th>\n",
       "      <th>signup_method_flow_facebook_24</th>\n",
       "      <th>signup_method_flow_facebook_25</th>\n",
       "      <th>signup_method_flow_facebook_3</th>\n",
       "      <th>signup_method_flow_facebook_4</th>\n",
       "      <th>signup_method_flow_facebook_5</th>\n",
       "      <th>signup_method_flow_google_12</th>\n",
       "    </tr>\n",
       "  </thead>\n",
       "  <tbody>\n",
       "    <tr>\n",
       "      <th>0</th>\n",
       "      <td>gxn3p5htnn</td>\n",
       "      <td>-0.164557</td>\n",
       "      <td>0</td>\n",
       "      <td>NDF</td>\n",
       "      <td>2010</td>\n",
       "      <td>6</td>\n",
       "      <td>28</td>\n",
       "      <td>0</td>\n",
       "      <td>0</td>\n",
       "      <td>2</td>\n",
       "      <td>...</td>\n",
       "      <td>False</td>\n",
       "      <td>False</td>\n",
       "      <td>False</td>\n",
       "      <td>False</td>\n",
       "      <td>False</td>\n",
       "      <td>False</td>\n",
       "      <td>False</td>\n",
       "      <td>False</td>\n",
       "      <td>False</td>\n",
       "      <td>False</td>\n",
       "    </tr>\n",
       "    <tr>\n",
       "      <th>1</th>\n",
       "      <td>820tgsjxq7</td>\n",
       "      <td>0.281566</td>\n",
       "      <td>0</td>\n",
       "      <td>NDF</td>\n",
       "      <td>2011</td>\n",
       "      <td>5</td>\n",
       "      <td>25</td>\n",
       "      <td>2</td>\n",
       "      <td>0</td>\n",
       "      <td>2</td>\n",
       "      <td>...</td>\n",
       "      <td>False</td>\n",
       "      <td>False</td>\n",
       "      <td>False</td>\n",
       "      <td>False</td>\n",
       "      <td>False</td>\n",
       "      <td>False</td>\n",
       "      <td>False</td>\n",
       "      <td>False</td>\n",
       "      <td>False</td>\n",
       "      <td>False</td>\n",
       "    </tr>\n",
       "    <tr>\n",
       "      <th>2</th>\n",
       "      <td>4ft3gnwmtx</td>\n",
       "      <td>2.289118</td>\n",
       "      <td>3</td>\n",
       "      <td>US</td>\n",
       "      <td>2010</td>\n",
       "      <td>9</td>\n",
       "      <td>28</td>\n",
       "      <td>1</td>\n",
       "      <td>0</td>\n",
       "      <td>3</td>\n",
       "      <td>...</td>\n",
       "      <td>False</td>\n",
       "      <td>False</td>\n",
       "      <td>False</td>\n",
       "      <td>False</td>\n",
       "      <td>False</td>\n",
       "      <td>False</td>\n",
       "      <td>False</td>\n",
       "      <td>False</td>\n",
       "      <td>False</td>\n",
       "      <td>False</td>\n",
       "    </tr>\n",
       "    <tr>\n",
       "      <th>3</th>\n",
       "      <td>bjjt8pjhuk</td>\n",
       "      <td>0.727688</td>\n",
       "      <td>0</td>\n",
       "      <td>other</td>\n",
       "      <td>2011</td>\n",
       "      <td>12</td>\n",
       "      <td>5</td>\n",
       "      <td>0</td>\n",
       "      <td>0</td>\n",
       "      <td>4</td>\n",
       "      <td>...</td>\n",
       "      <td>False</td>\n",
       "      <td>False</td>\n",
       "      <td>False</td>\n",
       "      <td>False</td>\n",
       "      <td>False</td>\n",
       "      <td>False</td>\n",
       "      <td>False</td>\n",
       "      <td>False</td>\n",
       "      <td>False</td>\n",
       "      <td>False</td>\n",
       "    </tr>\n",
       "    <tr>\n",
       "      <th>4</th>\n",
       "      <td>87mebub9p4</td>\n",
       "      <td>0.616158</td>\n",
       "      <td>0</td>\n",
       "      <td>US</td>\n",
       "      <td>2010</td>\n",
       "      <td>9</td>\n",
       "      <td>14</td>\n",
       "      <td>1</td>\n",
       "      <td>0</td>\n",
       "      <td>3</td>\n",
       "      <td>...</td>\n",
       "      <td>False</td>\n",
       "      <td>False</td>\n",
       "      <td>False</td>\n",
       "      <td>False</td>\n",
       "      <td>False</td>\n",
       "      <td>False</td>\n",
       "      <td>False</td>\n",
       "      <td>False</td>\n",
       "      <td>False</td>\n",
       "      <td>False</td>\n",
       "    </tr>\n",
       "  </tbody>\n",
       "</table>\n",
       "<p>5 rows × 197 columns</p>\n",
       "</div>"
      ],
      "text/plain": [
       "           id       age  signup_flow country_destination  dac_year  dac_month  \\\n",
       "0  gxn3p5htnn -0.164557            0                 NDF      2010          6   \n",
       "1  820tgsjxq7  0.281566            0                 NDF      2011          5   \n",
       "2  4ft3gnwmtx  2.289118            3                  US      2010          9   \n",
       "3  bjjt8pjhuk  0.727688            0               other      2011         12   \n",
       "4  87mebub9p4  0.616158            0                  US      2010          9   \n",
       "\n",
       "   dac_day  dac_dayofweek  dac_is_weekend  dac_quarter  ...  \\\n",
       "0       28              0               0            2  ...   \n",
       "1       25              2               0            2  ...   \n",
       "2       28              1               0            3  ...   \n",
       "3        5              0               0            4  ...   \n",
       "4       14              1               0            3  ...   \n",
       "\n",
       "   signup_method_flow_facebook_16  signup_method_flow_facebook_2  \\\n",
       "0                           False                          False   \n",
       "1                           False                          False   \n",
       "2                           False                          False   \n",
       "3                           False                          False   \n",
       "4                           False                          False   \n",
       "\n",
       "   signup_method_flow_facebook_21  signup_method_flow_facebook_23  \\\n",
       "0                           False                           False   \n",
       "1                           False                           False   \n",
       "2                           False                           False   \n",
       "3                           False                           False   \n",
       "4                           False                           False   \n",
       "\n",
       "   signup_method_flow_facebook_24  signup_method_flow_facebook_25  \\\n",
       "0                           False                           False   \n",
       "1                           False                           False   \n",
       "2                           False                           False   \n",
       "3                           False                           False   \n",
       "4                           False                           False   \n",
       "\n",
       "   signup_method_flow_facebook_3  signup_method_flow_facebook_4  \\\n",
       "0                          False                          False   \n",
       "1                          False                          False   \n",
       "2                          False                          False   \n",
       "3                          False                          False   \n",
       "4                          False                          False   \n",
       "\n",
       "   signup_method_flow_facebook_5  signup_method_flow_google_12  \n",
       "0                          False                         False  \n",
       "1                          False                         False  \n",
       "2                          False                         False  \n",
       "3                          False                         False  \n",
       "4                          False                         False  \n",
       "\n",
       "[5 rows x 197 columns]"
      ]
     },
     "execution_count": 3,
     "metadata": {},
     "output_type": "execute_result"
    }
   ],
   "source": [
    "# Quick check of the data\n",
    "df.head()"
   ]
  },
  {
   "cell_type": "code",
   "execution_count": 4,
   "id": "50c6cf39",
   "metadata": {},
   "outputs": [
    {
     "data": {
      "image/png": "[encoded data removed]",
      "text/plain": [
       "<Figure size 1200x600 with 1 Axes>"
      ]
     },
     "metadata": {},
     "output_type": "display_data"
    },
    {
     "name": "stdout",
     "output_type": "stream",
     "text": [
      "Class distribution:\n",
      "country_destination\n",
      "NDF      58.347349\n",
      "US       29.222632\n",
      "other     4.728954\n",
      "FR        2.353233\n",
      "IT        1.328174\n",
      "GB        1.088774\n",
      "ES        1.053638\n",
      "CA        0.669006\n",
      "DE        0.497070\n",
      "NL        0.356991\n",
      "AU        0.252517\n",
      "PT        0.101663\n",
      "Name: proportion, dtype: float64\n"
     ]
    }
   ],
   "source": [
    "# Distribution of target variable\n",
    "plt.figure(figsize=(12, 6))\n",
    "target_counts = df['country_destination'].value_counts()\n",
    "sns.barplot(x=target_counts.index, y=target_counts.values)\n",
    "plt.title('Distribution of Country Destinations')\n",
    "plt.xlabel('Country Destination')\n",
    "plt.ylabel('Count')\n",
    "plt.xticks(rotation=45)\n",
    "plt.show()\n",
    "\n",
    "# Print percentages\n",
    "print(\"Class distribution:\")\n",
    "print(df['country_destination'].value_counts(normalize=True) * 100)"
   ]
  },
  {
   "cell_type": "markdown",
   "id": "da0ff5e3",
   "metadata": {},
   "source": [
    "## 3. Prepare Data for Training"
   ]
  },
  {
   "cell_type": "code",
   "execution_count": 5,
   "id": "67e15069",
   "metadata": {},
   "outputs": [
    {
     "name": "stdout",
     "output_type": "stream",
     "text": [
      "Data is properly preprocessed with all features encoded.\n",
      "Encoding categorical column: most_common_action\n",
      "Unique values in most_common_action: 165\n",
      "Converting 171 boolean columns to int64 type for model compatibility\n",
      "Unique values in most_common_action: 165\n",
      "Converting 171 boolean columns to int64 type for model compatibility\n"
     ]
    }
   ],
   "source": [
    "# Separate features and target variable\n",
    "X = df.drop(['country_destination', 'id'], axis=1, errors='ignore')  # Drop target and user id\n",
    "y = df['country_destination']\n",
    "\n",
    "# Check for any string column (that's not boolean, object, or category type)\n",
    "non_numeric_cols = X.select_dtypes(exclude=['number', 'bool']).columns.tolist()\n",
    "categorical_cols = ['most_common_action']  # Add other special categorical columns here if needed\n",
    "\n",
    "# Remove known categorical columns from the non-numeric list\n",
    "non_numeric_cols = [col for col in non_numeric_cols if col not in categorical_cols]\n",
    "\n",
    "if non_numeric_cols:\n",
    "    print(f\"Warning: Found non-numeric, non-boolean columns in preprocessed data: {non_numeric_cols}\")\n",
    "    print(\"These columns should have been encoded in the preprocessing notebook.\")\n",
    "else:\n",
    "    print(\"Data is properly preprocessed with all features encoded.\")\n",
    "\n",
    "# Convert known categorical columns to numeric via encoding if they exist\n",
    "for col in categorical_cols:\n",
    "    if col in X.columns:\n",
    "        print(f\"Encoding categorical column: {col}\")\n",
    "        # Convert all values to string before encoding to handle mixed types\n",
    "        X[col] = X[col].astype(str)\n",
    "        # Use Label Encoding for most_common_action\n",
    "        from sklearn.preprocessing import LabelEncoder\n",
    "        le = LabelEncoder()\n",
    "        X[col] = le.fit_transform(X[col])\n",
    "        print(f\"Unique values in {col}: {X[col].nunique()}\")\n",
    "\n",
    "# Convert boolean columns to int\n",
    "bool_cols = X.select_dtypes(include=['bool']).columns.tolist()\n",
    "if bool_cols:\n",
    "    print(f\"Converting {len(bool_cols)} boolean columns to int64 type for model compatibility\")\n",
    "    X[bool_cols] = X[bool_cols].astype('int64')"
   ]
  },
  {
   "cell_type": "code",
   "execution_count": 6,
   "id": "46c3e401",
   "metadata": {},
   "outputs": [
    {
     "name": "stdout",
     "output_type": "stream",
     "text": [
      "Target class encoding mapping:\n",
      "0: AU\n",
      "1: CA\n",
      "2: DE\n",
      "3: ES\n",
      "4: FR\n",
      "5: GB\n",
      "6: IT\n",
      "7: NDF\n",
      "8: NL\n",
      "9: PT\n",
      "10: US\n",
      "11: other\n"
     ]
    }
   ],
   "source": [
    "# Encode target variable for model compatibility\n",
    "from sklearn.preprocessing import LabelEncoder\n",
    "\n",
    "# Create a label encoder for the target variable\n",
    "target_encoder = LabelEncoder()\n",
    "# Fit the encoder on all available classes\n",
    "target_encoder.fit(y)\n",
    "\n",
    "# Print the encoding mapping\n",
    "print(\"Target class encoding mapping:\")\n",
    "for i, country in enumerate(target_encoder.classes_):\n",
    "    print(f\"{i}: {country}\")\n",
    "\n",
    "# Transform the target variables\n",
    "y_encoded = target_encoder.transform(y)"
   ]
  },
  {
   "cell_type": "code",
   "execution_count": 7,
   "id": "865d3199",
   "metadata": {},
   "outputs": [
    {
     "name": "stdout",
     "output_type": "stream",
     "text": [
      "Training set: (170760, 195), Validation set: (42691, 195)\n"
     ]
    }
   ],
   "source": [
    "# Split data into training and validation sets using stratified sampling\n",
    "X_train, X_val, y_train, y_val = train_test_split(\n",
    "    X, y_encoded, test_size=0.2, random_state=42, stratify=y_encoded\n",
    ")\n",
    "\n",
    "# Get the original labels for reference and visualization\n",
    "y_train_original = target_encoder.inverse_transform(y_train)\n",
    "y_val_original = target_encoder.inverse_transform(y_val)\n",
    "\n",
    "print(f\"Training set: {X_train.shape}, Validation set: {X_val.shape}\")"
   ]
  },
  {
   "cell_type": "code",
   "execution_count": 8,
   "id": "6f9d7d02",
   "metadata": {},
   "outputs": [
    {
     "name": "stdout",
     "output_type": "stream",
     "text": [
      "NaN values in training features: 0\n",
      "NaN values in validation features: 0\n"
     ]
    }
   ],
   "source": [
    "# Check for any NaN values\n",
    "print(f\"NaN values in training features: {X_train.isna().sum().sum()}\")\n",
    "print(f\"NaN values in validation features: {X_val.isna().sum().sum()}\")\n",
    "\n",
    "# Replace any remaining NaN values with 0\n",
    "if X_train.isna().sum().sum() > 0:\n",
    "    X_train = X_train.fillna(0)\n",
    "    X_val = X_val.fillna(0)"
   ]
  },
  {
   "cell_type": "markdown",
   "id": "9f6d1a0d",
   "metadata": {},
   "source": [
    "## 4. Baseline Models\n",
    "\n",
    "We'll start with simple baseline models before moving to more complex ones."
   ]
  },
  {
   "cell_type": "code",
   "execution_count": 9,
   "id": "c828ae75",
   "metadata": {},
   "outputs": [],
   "source": [
    "# Function to evaluate and display model performance\n",
    "def evaluate_model(model, X_train, X_val, y_train, y_val, model_name):\n",
    "    # Train the model\n",
    "    model.fit(X_train, y_train)\n",
    "    \n",
    "    # Make predictions\n",
    "    y_pred = model.predict(X_val)\n",
    "    \n",
    "    # For visualization, convert encoded labels back to original country names\n",
    "    y_val_original = target_encoder.inverse_transform(y_val)\n",
    "    y_pred_original = target_encoder.inverse_transform(y_pred)\n",
    "    \n",
    "    # Calculate metrics\n",
    "    accuracy = accuracy_score(y_val, y_pred)\n",
    "    f1 = f1_score(y_val, y_pred, average='weighted')\n",
    "    \n",
    "    # Print results\n",
    "    print(f\"\\n{model_name} Results:\")\n",
    "    print(f\"Accuracy: {accuracy:.4f}\")\n",
    "    print(f\"F1 Score (weighted): {f1:.4f}\")\n",
    "    \n",
    "    # Display confusion matrix\n",
    "    cm = confusion_matrix(y_val_original, y_pred_original)\n",
    "    plt.figure(figsize=(10, 8))\n",
    "    sns.heatmap(cm, annot=True, fmt='d', cmap='Blues', xticklabels=target_encoder.classes_, yticklabels=target_encoder.classes_)\n",
    "    plt.title(f'Confusion Matrix - {model_name}')\n",
    "    plt.ylabel('True Label')\n",
    "    plt.xlabel('Predicted Label')\n",
    "    plt.tight_layout()\n",
    "    plt.show()\n",
    "    \n",
    "    # Display classification report\n",
    "    print(\"\\nClassification Report:\")\n",
    "    print(classification_report(y_val_original, y_pred_original))\n",
    "    \n",
    "    return model, accuracy, f1"
   ]
  },
  {
   "cell_type": "code",
   "execution_count": 10,
   "id": "bade4ee4",
   "metadata": {},
   "outputs": [
    {
     "name": "stdout",
     "output_type": "stream",
     "text": [
      "\n",
      "Logistic Regression Results:\n",
      "Accuracy: 0.5871\n",
      "F1 Score (weighted): 0.4451\n"
     ]
    },
    {
     "data": {
      "image/png": "[encoded data removed]",
      "text/plain": [
       "<Figure size 1000x800 with 2 Axes>"
      ]
     },
     "metadata": {},
     "output_type": "display_data"
    },
    {
     "name": "stdout",
     "output_type": "stream",
     "text": [
      "\n",
      "Classification Report:\n",
      "              precision    recall  f1-score   support\n",
      "\n",
      "          AU       0.00      0.00      0.00       108\n",
      "          CA       0.00      0.00      0.00       286\n",
      "          DE       0.00      0.00      0.00       212\n",
      "          ES       0.00      0.00      0.00       450\n",
      "          FR       0.00      0.00      0.00      1005\n",
      "          GB       0.00      0.00      0.00       465\n",
      "          IT       0.00      0.00      0.00       567\n",
      "         NDF       0.59      0.99      0.74     24909\n",
      "          NL       0.00      0.00      0.00       152\n",
      "          PT       0.00      0.00      0.00        43\n",
      "          US       0.56      0.03      0.05     12475\n",
      "       other       0.00      0.00      0.00      2019\n",
      "\n",
      "    accuracy                           0.59     42691\n",
      "   macro avg       0.10      0.08      0.07     42691\n",
      "weighted avg       0.51      0.59      0.45     42691\n",
      "\n",
      "              precision    recall  f1-score   support\n",
      "\n",
      "          AU       0.00      0.00      0.00       108\n",
      "          CA       0.00      0.00      0.00       286\n",
      "          DE       0.00      0.00      0.00       212\n",
      "          ES       0.00      0.00      0.00       450\n",
      "          FR       0.00      0.00      0.00      1005\n",
      "          GB       0.00      0.00      0.00       465\n",
      "          IT       0.00      0.00      0.00       567\n",
      "         NDF       0.59      0.99      0.74     24909\n",
      "          NL       0.00      0.00      0.00       152\n",
      "          PT       0.00      0.00      0.00        43\n",
      "          US       0.56      0.03      0.05     12475\n",
      "       other       0.00      0.00      0.00      2019\n",
      "\n",
      "    accuracy                           0.59     42691\n",
      "   macro avg       0.10      0.08      0.07     42691\n",
      "weighted avg       0.51      0.59      0.45     42691\n",
      "\n"
     ]
    }
   ],
   "source": [
    "# 4.1 Logistic Regression (Baseline)\n",
    "lr_model = LogisticRegression(max_iter=1000, multi_class='multinomial', solver='lbfgs', random_state=42)\n",
    "lr_model, lr_accuracy, lr_f1 = evaluate_model(lr_model, X_train, X_val, y_train, y_val, \"Logistic Regression\")"
   ]
  },
  {
   "cell_type": "code",
   "execution_count": 11,
   "id": "50ec6565",
   "metadata": {},
   "outputs": [
    {
     "name": "stdout",
     "output_type": "stream",
     "text": [
      "\n",
      "Random Forest Results:\n",
      "Accuracy: 0.6233\n",
      "F1 Score (weighted): 0.5734\n"
     ]
    },
    {
     "data": {
      "image/png": "[encoded data removed]",
      "text/plain": [
       "<Figure size 1000x800 with 2 Axes>"
      ]
     },
     "metadata": {},
     "output_type": "display_data"
    },
    {
     "name": "stdout",
     "output_type": "stream",
     "text": [
      "\n",
      "Classification Report:\n",
      "              precision    recall  f1-score   support\n",
      "\n",
      "          AU       0.00      0.00      0.00       108\n",
      "          CA       0.00      0.00      0.00       286\n",
      "          DE       0.00      0.00      0.00       212\n",
      "          ES       0.00      0.00      0.00       450\n",
      "          FR       0.00      0.00      0.00      1005\n",
      "          GB       0.00      0.00      0.00       465\n",
      "          IT       0.00      0.00      0.00       567\n",
      "         NDF       0.68      0.85      0.75     24909\n",
      "          NL       0.00      0.00      0.00       152\n",
      "          PT       0.00      0.00      0.00        43\n",
      "          US       0.49      0.43      0.46     12475\n",
      "       other       0.06      0.00      0.01      2019\n",
      "\n",
      "    accuracy                           0.62     42691\n",
      "   macro avg       0.10      0.11      0.10     42691\n",
      "weighted avg       0.54      0.62      0.57     42691\n",
      "\n",
      "              precision    recall  f1-score   support\n",
      "\n",
      "          AU       0.00      0.00      0.00       108\n",
      "          CA       0.00      0.00      0.00       286\n",
      "          DE       0.00      0.00      0.00       212\n",
      "          ES       0.00      0.00      0.00       450\n",
      "          FR       0.00      0.00      0.00      1005\n",
      "          GB       0.00      0.00      0.00       465\n",
      "          IT       0.00      0.00      0.00       567\n",
      "         NDF       0.68      0.85      0.75     24909\n",
      "          NL       0.00      0.00      0.00       152\n",
      "          PT       0.00      0.00      0.00        43\n",
      "          US       0.49      0.43      0.46     12475\n",
      "       other       0.06      0.00      0.01      2019\n",
      "\n",
      "    accuracy                           0.62     42691\n",
      "   macro avg       0.10      0.11      0.10     42691\n",
      "weighted avg       0.54      0.62      0.57     42691\n",
      "\n"
     ]
    }
   ],
   "source": [
    "# 4.2 Random Forest (Baseline)\n",
    "rf_model = RandomForestClassifier(n_estimators=100, random_state=42, n_jobs=-1)\n",
    "rf_model, rf_accuracy, rf_f1 = evaluate_model(rf_model, X_train, X_val, y_train, y_val, \"Random Forest\")"
   ]
  },
  {
   "cell_type": "code",
   "execution_count": 12,
   "id": "e8aeab24",
   "metadata": {},
   "outputs": [
    {
     "name": "stdout",
     "output_type": "stream",
     "text": [
      "\n",
      "XGBoost Results:\n",
      "Accuracy: 0.6434\n",
      "F1 Score (weighted): 0.5946\n"
     ]
    },
    {
     "data": {
      "image/png": "[encoded data removed]",
      "text/plain": [
       "<Figure size 1000x800 with 2 Axes>"
      ]
     },
     "metadata": {},
     "output_type": "display_data"
    },
    {
     "name": "stdout",
     "output_type": "stream",
     "text": [
      "\n",
      "Classification Report:\n",
      "              precision    recall  f1-score   support\n",
      "\n",
      "          AU       0.00      0.00      0.00       108\n",
      "          CA       0.00      0.00      0.00       286\n",
      "          DE       0.00      0.00      0.00       212\n",
      "          ES       0.33      0.00      0.00       450\n",
      "          FR       0.00      0.00      0.00      1005\n",
      "          GB       0.00      0.00      0.00       465\n",
      "          IT       0.00      0.00      0.00       567\n",
      "         NDF       0.70      0.86      0.77     24909\n",
      "          NL       0.00      0.00      0.00       152\n",
      "          PT       0.00      0.00      0.00        43\n",
      "          US       0.50      0.49      0.50     12475\n",
      "       other       0.23      0.00      0.00      2019\n",
      "\n",
      "    accuracy                           0.64     42691\n",
      "   macro avg       0.15      0.11      0.11     42691\n",
      "weighted avg       0.57      0.64      0.59     42691\n",
      "\n",
      "              precision    recall  f1-score   support\n",
      "\n",
      "          AU       0.00      0.00      0.00       108\n",
      "          CA       0.00      0.00      0.00       286\n",
      "          DE       0.00      0.00      0.00       212\n",
      "          ES       0.33      0.00      0.00       450\n",
      "          FR       0.00      0.00      0.00      1005\n",
      "          GB       0.00      0.00      0.00       465\n",
      "          IT       0.00      0.00      0.00       567\n",
      "         NDF       0.70      0.86      0.77     24909\n",
      "          NL       0.00      0.00      0.00       152\n",
      "          PT       0.00      0.00      0.00        43\n",
      "          US       0.50      0.49      0.50     12475\n",
      "       other       0.23      0.00      0.00      2019\n",
      "\n",
      "    accuracy                           0.64     42691\n",
      "   macro avg       0.15      0.11      0.11     42691\n",
      "weighted avg       0.57      0.64      0.59     42691\n",
      "\n"
     ]
    }
   ],
   "source": [
    "# 4.3 XGBoost (Baseline)\n",
    "xgb_model = xgb.XGBClassifier(objective='multi:softmax', random_state=42, n_jobs=-1)\n",
    "xgb_model, xgb_accuracy, xgb_f1 = evaluate_model(xgb_model, X_train, X_val, y_train, y_val, \"XGBoost\")"
   ]
  },
  {
   "cell_type": "code",
   "execution_count": 13,
   "id": "97a8826f",
   "metadata": {},
   "outputs": [
    {
     "name": "stdout",
     "output_type": "stream",
     "text": [
      "[LightGBM] [Warning] Found whitespace in feature_names, replace with underlines\n",
      "[LightGBM] [Info] Auto-choosing row-wise multi-threading, the overhead of testing was 0.039526 seconds.\n",
      "You can set `force_row_wise=true` to remove the overhead.\n",
      "And if memory is not enough, you can set `force_col_wise=true`.\n",
      "[LightGBM] [Info] Total Bins 1848\n",
      "[LightGBM] [Info] Number of data points in the train set: 170760, number of used features: 144\n",
      "[LightGBM] [Info] Start training from score -5.981906\n",
      "[LightGBM] [Info] Start training from score -5.007478\n",
      "[LightGBM] [Info] Start training from score -5.303955\n",
      "[LightGBM] [Info] Start training from score -4.553028\n",
      "[LightGBM] [Info] Start training from score -3.749475\n",
      "[LightGBM] [Info] Start training from score -4.520220\n",
      "[LightGBM] [Info] Start training from score -4.321361\n",
      "[LightGBM] [Info] Start training from score -0.538756\n",
      "[LightGBM] [Info] Start training from score -5.634555\n",
      "[LightGBM] [Info] Start training from score -6.888959\n",
      "[LightGBM] [Info] Start training from score -1.230218\n",
      "[LightGBM] [Info] Start training from score -3.051486\n",
      "\n",
      "LightGBM Results:\n",
      "Accuracy: 0.6432\n",
      "F1 Score (weighted): 0.5960\n",
      "\n",
      "LightGBM Results:\n",
      "Accuracy: 0.6432\n",
      "F1 Score (weighted): 0.5960\n"
     ]
    },
    {
     "data": {
      "image/png": "[encoded data removed]",
      "text/plain": [
       "<Figure size 1000x800 with 2 Axes>"
      ]
     },
     "metadata": {},
     "output_type": "display_data"
    },
    {
     "name": "stdout",
     "output_type": "stream",
     "text": [
      "\n",
      "Classification Report:\n",
      "              precision    recall  f1-score   support\n",
      "\n",
      "          AU       0.00      0.00      0.00       108\n",
      "          CA       0.00      0.00      0.00       286\n",
      "          DE       0.17      0.00      0.01       212\n",
      "          ES       0.00      0.00      0.00       450\n",
      "          FR       0.12      0.00      0.00      1005\n",
      "          GB       0.00      0.00      0.00       465\n",
      "          IT       0.00      0.00      0.00       567\n",
      "         NDF       0.70      0.86      0.77     24909\n",
      "          NL       0.00      0.00      0.00       152\n",
      "          PT       0.00      0.00      0.00        43\n",
      "          US       0.51      0.49      0.50     12475\n",
      "       other       0.20      0.00      0.00      2019\n",
      "\n",
      "    accuracy                           0.64     42691\n",
      "   macro avg       0.14      0.11      0.11     42691\n",
      "weighted avg       0.57      0.64      0.60     42691\n",
      "\n",
      "              precision    recall  f1-score   support\n",
      "\n",
      "          AU       0.00      0.00      0.00       108\n",
      "          CA       0.00      0.00      0.00       286\n",
      "          DE       0.17      0.00      0.01       212\n",
      "          ES       0.00      0.00      0.00       450\n",
      "          FR       0.12      0.00      0.00      1005\n",
      "          GB       0.00      0.00      0.00       465\n",
      "          IT       0.00      0.00      0.00       567\n",
      "         NDF       0.70      0.86      0.77     24909\n",
      "          NL       0.00      0.00      0.00       152\n",
      "          PT       0.00      0.00      0.00        43\n",
      "          US       0.51      0.49      0.50     12475\n",
      "       other       0.20      0.00      0.00      2019\n",
      "\n",
      "    accuracy                           0.64     42691\n",
      "   macro avg       0.14      0.11      0.11     42691\n",
      "weighted avg       0.57      0.64      0.60     42691\n",
      "\n"
     ]
    }
   ],
   "source": [
    "# 4.4 LightGBM (Baseline)\n",
    "lgb_model = lgb.LGBMClassifier(objective='multiclass', random_state=42, n_jobs=-1)\n",
    "lgb_model, lgb_accuracy, lgb_f1 = evaluate_model(lgb_model, X_train, X_val, y_train, y_val, \"LightGBM\")"
   ]
  },
  {
   "cell_type": "code",
   "execution_count": 14,
   "id": "2241d02b",
   "metadata": {},
   "outputs": [
    {
     "data": {
      "application/vnd.microsoft.datawrangler.viewer.v0+json": {
       "columns": [
        {
         "name": "index",
         "rawType": "int64",
         "type": "integer"
        },
        {
         "name": "Model",
         "rawType": "object",
         "type": "string"
        },
        {
         "name": "Accuracy",
         "rawType": "float64",
         "type": "float"
        },
        {
         "name": "F1 Score",
         "rawType": "float64",
         "type": "float"
        }
       ],
       "conversionMethod": "pd.DataFrame",
       "ref": "c8b08157-087e-4a96-8dd9-89ab263ad52c",
       "rows": [
        [
         "0",
         "LightGBM",
         "0.6432269096530885",
         "0.5959979684388517"
        ],
        [
         "1",
         "XGBoost",
         "0.6433674544986062",
         "0.5945848283129145"
        ],
        [
         "2",
         "Random Forest",
         "0.6233163898714015",
         "0.5733577436848701"
        ],
        [
         "3",
         "Logistic Regression",
         "0.58714951629149",
         "0.4451349795318637"
        ]
       ],
       "shape": {
        "columns": 3,
        "rows": 4
       }
      },
      "text/html": [
       "<div>\n",
       "<style scoped>\n",
       "    .dataframe tbody tr th:only-of-type {\n",
       "        vertical-align: middle;\n",
       "    }\n",
       "\n",
       "    .dataframe tbody tr th {\n",
       "        vertical-align: top;\n",
       "    }\n",
       "\n",
       "    .dataframe thead th {\n",
       "        text-align: right;\n",
       "    }\n",
       "</style>\n",
       "<table border=\"1\" class=\"dataframe\">\n",
       "  <thead>\n",
       "    <tr style=\"text-align: right;\">\n",
       "      <th></th>\n",
       "      <th>Model</th>\n",
       "      <th>Accuracy</th>\n",
       "      <th>F1 Score</th>\n",
       "    </tr>\n",
       "  </thead>\n",
       "  <tbody>\n",
       "    <tr>\n",
       "      <th>0</th>\n",
       "      <td>LightGBM</td>\n",
       "      <td>0.643227</td>\n",
       "      <td>0.595998</td>\n",
       "    </tr>\n",
       "    <tr>\n",
       "      <th>1</th>\n",
       "      <td>XGBoost</td>\n",
       "      <td>0.643367</td>\n",
       "      <td>0.594585</td>\n",
       "    </tr>\n",
       "    <tr>\n",
       "      <th>2</th>\n",
       "      <td>Random Forest</td>\n",
       "      <td>0.623316</td>\n",
       "      <td>0.573358</td>\n",
       "    </tr>\n",
       "    <tr>\n",
       "      <th>3</th>\n",
       "      <td>Logistic Regression</td>\n",
       "      <td>0.587150</td>\n",
       "      <td>0.445135</td>\n",
       "    </tr>\n",
       "  </tbody>\n",
       "</table>\n",
       "</div>"
      ],
      "text/plain": [
       "                 Model  Accuracy  F1 Score\n",
       "0             LightGBM  0.643227  0.595998\n",
       "1              XGBoost  0.643367  0.594585\n",
       "2        Random Forest  0.623316  0.573358\n",
       "3  Logistic Regression  0.587150  0.445135"
      ]
     },
     "execution_count": 14,
     "metadata": {},
     "output_type": "execute_result"
    }
   ],
   "source": [
    "# Compare baseline models\n",
    "baseline_results = {\n",
    "    'Model': ['Logistic Regression', 'Random Forest', 'XGBoost', 'LightGBM'],\n",
    "    'Accuracy': [lr_accuracy, rf_accuracy, xgb_accuracy, lgb_accuracy],\n",
    "    'F1 Score': [lr_f1, rf_f1, xgb_f1, lgb_f1]\n",
    "}\n",
    "\n",
    "baseline_df = pd.DataFrame(baseline_results)\n",
    "baseline_df = baseline_df.sort_values('F1 Score', ascending=False).reset_index(drop=True)\n",
    "baseline_df"
   ]
  },
  {
   "cell_type": "code",
   "execution_count": 15,
   "id": "68ce7951",
   "metadata": {},
   "outputs": [
    {
     "data": {
      "image/png": "[encoded data removed]",
      "text/plain": [
       "<Figure size 1200x600 with 1 Axes>"
      ]
     },
     "metadata": {},
     "output_type": "display_data"
    }
   ],
   "source": [
    "# Visualize baseline model comparison\n",
    "plt.figure(figsize=(12, 6))\n",
    "\n",
    "x = baseline_df['Model']\n",
    "width = 0.35\n",
    "\n",
    "plt.bar(x=np.arange(len(x)), height=baseline_df['Accuracy'], width=width, label='Accuracy', alpha=0.7)\n",
    "plt.bar(x=np.arange(len(x)) + width, height=baseline_df['F1 Score'], width=width, label='F1 Score', alpha=0.7)\n",
    "\n",
    "plt.xlabel('Model')\n",
    "plt.ylabel('Score')\n",
    "plt.title('Baseline Model Performance Comparison')\n",
    "plt.xticks(np.arange(len(x)) + width/2, x, rotation=45)\n",
    "plt.legend()\n",
    "plt.tight_layout()\n",
    "plt.show()"
   ]
  },
  {
   "cell_type": "markdown",
   "id": "a1f36621",
   "metadata": {},
   "source": [
    "## 5. Feature Importance Analysis\n",
    "\n",
    "Let's analyze feature importance for the best-performing model from our baselines."
   ]
  },
  {
   "cell_type": "code",
   "execution_count": 16,
   "id": "dd42be27",
   "metadata": {},
   "outputs": [],
   "source": [
    "# Function to plot feature importance\n",
    "def plot_feature_importance(model, feature_names, model_name, top_n=20):\n",
    "    if hasattr(model, 'feature_importances_'):\n",
    "        # For tree-based models\n",
    "        importances = model.feature_importances_\n",
    "    elif hasattr(model, 'coef_'):\n",
    "        # For linear models like Logistic Regression\n",
    "        importances = np.mean(np.abs(model.coef_), axis=0)\n",
    "    else:\n",
    "        print(f\"Model {model_name} does not have feature importances available.\")\n",
    "        return\n",
    "    \n",
    "    # Get feature importances and names\n",
    "    feature_importance = pd.DataFrame({\n",
    "        'Feature': feature_names,\n",
    "        'Importance': importances\n",
    "    })\n",
    "    \n",
    "    # Sort by importance and get top N\n",
    "    feature_importance = feature_importance.sort_values('Importance', ascending=False).head(top_n)\n",
    "    \n",
    "    # Plot\n",
    "    plt.figure(figsize=(10, 8))\n",
    "    sns.barplot(x='Importance', y='Feature', data=feature_importance)\n",
    "    plt.title(f'Top {top_n} Feature Importance - {model_name}')\n",
    "    plt.tight_layout()\n",
    "    plt.show()\n",
    "    \n",
    "    return feature_importance"
   ]
  },
  {
   "cell_type": "code",
   "execution_count": 17,
   "id": "00d8453f",
   "metadata": {},
   "outputs": [
    {
     "name": "stdout",
     "output_type": "stream",
     "text": [
      "Best performing baseline model: LightGBM\n"
     ]
    },
    {
     "data": {
      "image/png": "[encoded data removed]",
      "text/plain": [
       "<Figure size 1000x800 with 1 Axes>"
      ]
     },
     "metadata": {},
     "output_type": "display_data"
    }
   ],
   "source": [
    "# Identify the best model from baselines\n",
    "best_baseline_model_name = baseline_df.iloc[0]['Model']\n",
    "print(f\"Best performing baseline model: {best_baseline_model_name}\")\n",
    "\n",
    "# Get the corresponding model object\n",
    "if best_baseline_model_name == 'Logistic Regression':\n",
    "    best_model = lr_model\n",
    "elif best_baseline_model_name == 'Random Forest':\n",
    "    best_model = rf_model\n",
    "elif best_baseline_model_name == 'XGBoost':\n",
    "    best_model = xgb_model\n",
    "else:  # LightGBM\n",
    "    best_model = lgb_model\n",
    "\n",
    "# Plot feature importance for the best model\n",
    "feature_importance_df = plot_feature_importance(best_model, X_train.columns, best_baseline_model_name)"
   ]
  },
  {
   "cell_type": "markdown",
   "id": "2a5ff95f",
   "metadata": {},
   "source": [
    "## 6. Hyperparameter Tuning with Cross-Validation\n",
    "\n",
    "Let's tune the hyperparameters of our best-performing model to improve its performance."
   ]
  },
  {
   "cell_type": "code",
   "execution_count": 18,
   "id": "645f43c5",
   "metadata": {},
   "outputs": [
    {
     "name": "stdout",
     "output_type": "stream",
     "text": [
      "Tuning hyperparameters for: LightGBM\n"
     ]
    }
   ],
   "source": [
    "# Find best baseline model to tune\n",
    "best_model_name = best_baseline_model_name\n",
    "print(f\"Tuning hyperparameters for: {best_model_name}\")"
   ]
  },
  {
   "cell_type": "code",
   "execution_count": 19,
   "id": "644597db",
   "metadata": {},
   "outputs": [],
   "source": [
    "# 6.1 Tuning Random Forest (if it's the best model)\n",
    "if best_model_name == 'Random Forest':\n",
    "    # Define parameter grid\n",
    "    param_grid = {\n",
    "        'n_estimators': [100, 200, 300],\n",
    "        'max_depth': [None, 10, 20, 30],\n",
    "        'min_samples_split': [2, 5, 10],\n",
    "        'min_samples_leaf': [1, 2, 4]\n",
    "    }\n",
    "    \n",
    "    # Create model\n",
    "    rf = RandomForestClassifier(random_state=42, n_jobs=-1)\n",
    "    \n",
    "    # Use cross-validation with grid search\n",
    "    cv = StratifiedKFold(n_splits=3, shuffle=True, random_state=42)\n",
    "    grid_search = GridSearchCV(estimator=rf, param_grid=param_grid, cv=cv, \n",
    "                              scoring='f1_weighted', n_jobs=-1, verbose=1)\n",
    "    \n",
    "    # Train with grid search\n",
    "    grid_search.fit(X_train, y_train)\n",
    "    \n",
    "    # Get best model and parameters\n",
    "    best_rf = grid_search.best_estimator_\n",
    "    print(f\"Best parameters: {grid_search.best_params_}\")\n",
    "    print(f\"Best cross-validation score: {grid_search.best_score_:.4f}\")\n",
    "    \n",
    "    # Evaluate tuned model\n",
    "    tuned_model, tuned_accuracy, tuned_f1 = evaluate_model(best_rf, X_train, X_val, y_train, y_val, \"Tuned Random Forest\")"
   ]
  },
  {
   "cell_type": "code",
   "execution_count": 20,
   "id": "92e2cb48",
   "metadata": {},
   "outputs": [],
   "source": [
    "# 6.2 Tuning XGBoost (if it's the best model)\n",
    "if best_model_name == 'XGBoost':\n",
    "    # Define parameter grid\n",
    "    param_grid = {\n",
    "        'learning_rate': [0.01, 0.1, 0.2],\n",
    "        'max_depth': [3, 5, 7],\n",
    "        'n_estimators': [100, 200, 300],\n",
    "        'subsample': [0.7, 0.8, 0.9],\n",
    "        'colsample_bytree': [0.7, 0.8, 0.9]\n",
    "    }\n",
    "    \n",
    "    # Create model\n",
    "    xgb_clf = xgb.XGBClassifier(objective='multi:softmax', random_state=42, n_jobs=-1)\n",
    "    \n",
    "    # Use cross-validation with grid search\n",
    "    cv = StratifiedKFold(n_splits=3, shuffle=True, random_state=42)\n",
    "    grid_search = GridSearchCV(estimator=xgb_clf, param_grid=param_grid, cv=cv, \n",
    "                              scoring='f1_weighted', n_jobs=-1, verbose=1)\n",
    "    \n",
    "    # Train with grid search\n",
    "    grid_search.fit(X_train, y_train)\n",
    "    \n",
    "    # Get best model and parameters\n",
    "    best_xgb = grid_search.best_estimator_\n",
    "    print(f\"Best parameters: {grid_search.best_params_}\")\n",
    "    print(f\"Best cross-validation score: {grid_search.best_score_:.4f}\")\n",
    "    \n",
    "    # Evaluate tuned model\n",
    "    tuned_model, tuned_accuracy, tuned_f1 = evaluate_model(best_xgb, X_train, X_val, y_train, y_val, \"Tuned XGBoost\")"
   ]
  },
  {
   "cell_type": "code",
   "execution_count": null,
   "id": "7dbd97f2",
   "metadata": {},
   "outputs": [
    {
     "name": "stdout",
     "output_type": "stream",
     "text": [
      "Fitting 3 folds for each of 324 candidates, totalling 972 fits\n"
     ]
    }
   ],
   "source": [
    "# 6.3 Tuning LightGBM (if it's the best model)\n",
    "if best_model_name == 'LightGBM':\n",
    "    # Define parameter grid\n",
    "    param_grid = {\n",
    "        'learning_rate': [0.01, 0.05, 0.1],\n",
    "        'n_estimators': [100, 200, 300],\n",
    "        'max_depth': [3, 5, 7, -1],  # -1 means no limit\n",
    "        'num_leaves': [31, 63, 127],\n",
    "        'subsample': [0.7, 0.8, 0.9]\n",
    "    }\n",
    "    \n",
    "    # Create model\n",
    "    lgbm = lgb.LGBMClassifier(objective='multiclass', random_state=42, n_jobs=-1)\n",
    "    \n",
    "    # Use cross-validation with grid search\n",
    "    cv = StratifiedKFold(n_splits=3, shuffle=True, random_state=42)\n",
    "    grid_search = GridSearchCV(estimator=lgbm, param_grid=param_grid, cv=cv, \n",
    "                              scoring='f1_weighted', n_jobs=-1, verbose=1)\n",
    "    \n",
    "    # Train with grid search\n",
    "    grid_search.fit(X_train, y_train)\n",
    "    \n",
    "    # Get best model and parameters\n",
    "    best_lgbm = grid_search.best_estimator_\n",
    "    print(f\"Best parameters: {grid_search.best_params_}\")\n",
    "    print(f\"Best cross-validation score: {grid_search.best_score_:.4f}\")\n",
    "    \n",
    "    # Evaluate tuned model\n",
    "    tuned_model, tuned_accuracy, tuned_f1 = evaluate_model(best_lgbm, X_train, X_val, y_train, y_val, \"Tuned LightGBM\")"
   ]
  },
  {
   "cell_type": "code",
   "execution_count": null,
   "id": "3fe7e8ad",
   "metadata": {},
   "outputs": [],
   "source": [
    "# 6.4 Tuning Logistic Regression (if it's the best model)\n",
    "if best_model_name == 'Logistic Regression':\n",
    "    # Define parameter grid\n",
    "    param_grid = {\n",
    "        'C': [0.001, 0.01, 0.1, 1, 10, 100],\n",
    "        'solver': ['lbfgs', 'newton-cg', 'sag'],\n",
    "        'penalty': ['l2', 'none']\n",
    "    }\n",
    "    \n",
    "    # Create model\n",
    "    lr = LogisticRegression(max_iter=2000, multi_class='multinomial', random_state=42)\n",
    "    \n",
    "    # Use cross-validation with grid search\n",
    "    cv = StratifiedKFold(n_splits=3, shuffle=True, random_state=42)\n",
    "    grid_search = GridSearchCV(estimator=lr, param_grid=param_grid, cv=cv, \n",
    "                              scoring='f1_weighted', n_jobs=-1, verbose=1)\n",
    "    \n",
    "    # Train with grid search\n",
    "    grid_search.fit(X_train, y_train)\n",
    "    \n",
    "    # Get best model and parameters\n",
    "    best_lr = grid_search.best_estimator_\n",
    "    print(f\"Best parameters: {grid_search.best_params_}\")\n",
    "    print(f\"Best cross-validation score: {grid_search.best_score_:.4f}\")\n",
    "    \n",
    "    # Evaluate tuned model\n",
    "    tuned_model, tuned_accuracy, tuned_f1 = evaluate_model(best_lr, X_train, X_val, y_train, y_val, \"Tuned Logistic Regression\")"
   ]
  },
  {
   "cell_type": "markdown",
   "id": "c2e807f1",
   "metadata": {},
   "source": [
    "## 7. Advanced Hyperparameter Tuning with Optuna\n",
    "\n",
    "Now let's use Optuna to perform more sophisticated hyperparameter optimization for our best model."
   ]
  },
  {
   "cell_type": "code",
   "execution_count": null,
   "id": "3f3c5712",
   "metadata": {},
   "outputs": [],
   "source": [
    "# Define the objective function for XGBoost\n",
    "def objective_xgb(trial):\n",
    "    param = {\n",
    "        'max_depth': trial.suggest_int('max_depth', 3, 10),\n",
    "        'learning_rate': trial.suggest_float('learning_rate', 0.01, 0.3),\n",
    "        'n_estimators': trial.suggest_int('n_estimators', 50, 500),\n",
    "        'min_child_weight': trial.suggest_int('min_child_weight', 1, 10),\n",
    "        'gamma': trial.suggest_float('gamma', 0.01, 1.0),\n",
    "        'subsample': trial.suggest_float('subsample', 0.5, 1.0),\n",
    "        'colsample_bytree': trial.suggest_float('colsample_bytree', 0.5, 1.0),\n",
    "        'reg_alpha': trial.suggest_float('reg_alpha', 0, 10),\n",
    "        'reg_lambda': trial.suggest_float('reg_lambda', 1, 10),\n",
    "        'objective': 'multi:softmax',\n",
    "        'random_state': 42\n",
    "    }\n",
    "    \n",
    "    # Create model\n",
    "    model = xgb.XGBClassifier(**param)\n",
    "    \n",
    "    # Perform cross-validation\n",
    "    cv = StratifiedKFold(n_splits=3, shuffle=True, random_state=42)\n",
    "    cv_scores = cross_val_score(model, X_train, y_train, cv=cv, scoring='f1_weighted')\n",
    "    \n",
    "    # Return mean CV score\n",
    "    return cv_scores.mean()"
   ]
  },
  {
   "cell_type": "code",
   "execution_count": null,
   "id": "e0fef932",
   "metadata": {},
   "outputs": [],
   "source": [
    "# Define the objective function for LightGBM\n",
    "def objective_lgb(trial):\n",
    "    param = {\n",
    "        'objective': 'multiclass',\n",
    "        'boosting_type': 'gbdt',\n",
    "        'n_estimators': trial.suggest_int('n_estimators', 50, 500),\n",
    "        'learning_rate': trial.suggest_float('learning_rate', 0.01, 0.3),\n",
    "        'max_depth': trial.suggest_int('max_depth', 3, 12),\n",
    "        'num_leaves': trial.suggest_int('num_leaves', 20, 150),\n",
    "        'subsample': trial.suggest_float('subsample', 0.5, 1.0),\n",
    "        'colsample_bytree': trial.suggest_float('colsample_bytree', 0.5, 1.0),\n",
    "        'min_child_samples': trial.suggest_int('min_child_samples', 5, 100),\n",
    "        'reg_alpha': trial.suggest_float('reg_alpha', 0.0, 10.0),\n",
    "        'reg_lambda': trial.suggest_float('reg_lambda', 0.0, 10.0),\n",
    "        'random_state': 42\n",
    "    }\n",
    "    \n",
    "    # Create model\n",
    "    model = lgb.LGBMClassifier(**param)\n",
    "    \n",
    "    # Perform cross-validation\n",
    "    cv = StratifiedKFold(n_splits=3, shuffle=True, random_state=42)\n",
    "    cv_scores = cross_val_score(model, X_train, y_train, cv=cv, scoring='f1_weighted')\n",
    "    \n",
    "    # Return mean CV score\n",
    "    return cv_scores.mean()"
   ]
  },
  {
   "cell_type": "code",
   "execution_count": null,
   "id": "0840658d",
   "metadata": {},
   "outputs": [],
   "source": [
    "# Define the objective function for RandomForest\n",
    "def objective_rf(trial):\n",
    "    param = {\n",
    "        'n_estimators': trial.suggest_int('n_estimators', 50, 500),\n",
    "        'max_depth': trial.suggest_int('max_depth', 3, 25),\n",
    "        'min_samples_split': trial.suggest_int('min_samples_split', 2, 20),\n",
    "        'min_samples_leaf': trial.suggest_int('min_samples_leaf', 1, 20),\n",
    "        'max_features': trial.suggest_categorical('max_features', ['sqrt', 'log2', None]),\n",
    "        'bootstrap': trial.suggest_categorical('bootstrap', [True, False]),\n",
    "        'random_state': 42\n",
    "    }\n",
    "    \n",
    "    # Create model\n",
    "    model = RandomForestClassifier(**param)\n",
    "    \n",
    "    # Perform cross-validation\n",
    "    cv = StratifiedKFold(n_splits=3, shuffle=True, random_state=42)\n",
    "    cv_scores = cross_val_score(model, X_train, y_train, cv=cv, scoring='f1_weighted')\n",
    "    \n",
    "    # Return mean CV score\n",
    "    return cv_scores.mean()"
   ]
  },
  {
   "cell_type": "code",
   "execution_count": null,
   "id": "b11f69e7",
   "metadata": {},
   "outputs": [],
   "source": [
    "# Choose which objective function to use based on best baseline model\n",
    "if best_model_name == 'XGBoost':\n",
    "    objective_function = objective_xgb\n",
    "    print(\"Running Optuna optimization for XGBoost...\")\n",
    "elif best_model_name == 'LightGBM':\n",
    "    objective_function = objective_lgb\n",
    "    print(\"Running Optuna optimization for LightGBM...\")\n",
    "elif best_model_name == 'Random Forest':\n",
    "    objective_function = objective_rf\n",
    "    print(\"Running Optuna optimization for Random Forest...\")\n",
    "else:\n",
    "    # For Logistic Regression, we'll use GridSearchCV results\n",
    "    print(\"Skipping Optuna optimization for Logistic Regression (GridSearchCV is sufficient)\")"
   ]
  },
  {
   "cell_type": "code",
   "execution_count": null,
   "id": "8af97ddd",
   "metadata": {},
   "outputs": [],
   "source": [
    "# Run Optuna optimization if applicable\n",
    "if best_model_name in ['XGBoost', 'LightGBM', 'Random Forest']:\n",
    "    # Create study\n",
    "    study = optuna.create_study(direction='maximize')\n",
    "    \n",
    "    # Optimize with 50 trials (adjust as needed)\n",
    "    study.optimize(objective_function, n_trials=50)\n",
    "    \n",
    "    # Print best parameters\n",
    "    print(\"Best trial:\")\n",
    "    trial = study.best_trial\n",
    "    print(f\"  Value: {trial.value:.4f}\")\n",
    "    print(\"  Params: \")\n",
    "    for key, value in trial.params.items():\n",
    "        print(f\"    {key}: {value}\")\n",
    "    \n",
    "    # Create model with best parameters\n",
    "    if best_model_name == 'XGBoost':\n",
    "        final_model = xgb.XGBClassifier(\n",
    "            objective='multi:softmax',\n",
    "            random_state=42,\n",
    "            **trial.params\n",
    "        )\n",
    "    elif best_model_name == 'LightGBM':\n",
    "        final_model = lgb.LGBMClassifier(\n",
    "            objective='multiclass',\n",
    "            random_state=42,\n",
    "            **trial.params\n",
    "        )\n",
    "    else:  # Random Forest\n",
    "        final_model = RandomForestClassifier(\n",
    "            random_state=42,\n",
    "            **trial.params\n",
    "        )\n",
    "    \n",
    "    # Evaluate final model\n",
    "    final_model, final_accuracy, final_f1 = evaluate_model(\n",
    "        final_model, X_train, X_val, y_train, y_val, f\"Optuna-Tuned {best_model_name}\"\n",
    "    )\n",
    "else:\n",
    "    # For Logistic Regression, use the GridSearchCV results as the final model\n",
    "    final_model = best_lr if 'best_lr' in locals() else lr_model\n",
    "    final_accuracy = tuned_accuracy if 'tuned_accuracy' in locals() else lr_accuracy\n",
    "    final_f1 = tuned_f1 if 'tuned_f1' in locals() else lr_f1"
   ]
  },
  {
   "cell_type": "markdown",
   "id": "5e889fa8",
   "metadata": {},
   "source": [
    "## 8. Retrain Final Model on Full Training Data"
   ]
  },
  {
   "cell_type": "code",
   "execution_count": null,
   "id": "365c6097",
   "metadata": {},
   "outputs": [],
   "source": [
    "# Retrain final model on the full training dataset\n",
    "print(f\"Training final {best_model_name} model on full training data...\")\n",
    "final_model.fit(X_train, y_train)"
   ]
  },
  {
   "cell_type": "code",
   "execution_count": null,
   "id": "a4a5456d",
   "metadata": {},
   "outputs": [],
   "source": [
    "# Save the final model\n",
    "model_filename = f\"../models/final_{best_model_name.lower().replace(' ', '_')}_model.pkl\"\n",
    "with open(model_filename, 'wb') as f:\n",
    "    pickle.dump(final_model, f)\n",
    "\n",
    "print(f\"Final model saved to {model_filename}\")"
   ]
  },
  {
   "cell_type": "code",
   "execution_count": null,
   "id": "d1809e42",
   "metadata": {},
   "outputs": [],
   "source": [
    "# Save model metadata\n",
    "model_meta = {\n",
    "    'model_type': best_model_name,\n",
    "    'accuracy': final_accuracy,\n",
    "    'f1_score': final_f1,\n",
    "    'training_date': datetime.now().strftime(\"%Y-%m-%d %H:%M:%S\"),\n",
    "    'model_file': model_filename,\n",
    "    'feature_count': X_train.shape[1],\n",
    "    'train_samples': X_train.shape[0],\n",
    "    'validation_samples': X_val.shape[0],\n",
    "    'classes': list(final_model.classes_)\n",
    "}\n",
    "\n",
    "meta_filename = \"../models/model_metadata.json\"\n",
    "import json\n",
    "with open(meta_filename, 'w') as f:\n",
    "    json.dump(model_meta, f, indent=4)\n",
    "\n",
    "print(f\"Model metadata saved to {meta_filename}\")"
   ]
  },
  {
   "cell_type": "markdown",
   "id": "e02faad5",
   "metadata": {},
   "source": [
    "## 9. Final Performance on Validation Set"
   ]
  },
  {
   "cell_type": "code",
   "execution_count": null,
   "id": "da2b8ed0",
   "metadata": {},
   "outputs": [],
   "source": [
    "# Make predictions on validation set\n",
    "y_pred = final_model.predict(X_val)\n",
    "\n",
    "# Calculate metrics\n",
    "accuracy = accuracy_score(y_val, y_pred)\n",
    "f1 = f1_score(y_val, y_pred, average='weighted')\n",
    "\n",
    "print(f\"Final Model ({best_model_name}) Performance on Validation Set:\")\n",
    "print(f\"Accuracy: {accuracy:.4f}\")\n",
    "print(f\"F1 Score (weighted): {f1:.4f}\")"
   ]
  },
  {
   "cell_type": "code",
   "execution_count": null,
   "id": "80e28b4c",
   "metadata": {},
   "outputs": [],
   "source": [
    "# Display final confusion matrix\n",
    "cm = confusion_matrix(y_val, y_pred)\n",
    "plt.figure(figsize=(12, 10))\n",
    "sns.heatmap(cm, annot=True, fmt='d', cmap='Blues', xticklabels=final_model.classes_, yticklabels=final_model.classes_)\n",
    "plt.title(f'Final Confusion Matrix - {best_model_name}')\n",
    "plt.ylabel('True Label')\n",
    "plt.xlabel('Predicted Label')\n",
    "plt.tight_layout()\n",
    "plt.savefig(f\"../outputs/final_confusion_matrix.png\", dpi=300, bbox_inches='tight')\n",
    "plt.show()"
   ]
  },
  {
   "cell_type": "code",
   "execution_count": null,
   "id": "fd6121bd",
   "metadata": {},
   "outputs": [],
   "source": [
    "# Display classification report\n",
    "print(\"Final Classification Report:\")\n",
    "print(classification_report(y_val, y_pred))"
   ]
  },
  {
   "cell_type": "markdown",
   "id": "4dcf3eba",
   "metadata": {},
   "source": [
    "## 10. Predict Top 5 Countries (Kaggle Evaluation Metric)\n",
    "\n",
    "The Kaggle competition uses NDCG@5 (Normalized Discounted Cumulative Gain) as the evaluation metric, so we need to predict the top 5 most likely destinations for each user."
   ]
  },
  {
   "cell_type": "code",
   "execution_count": null,
   "id": "0e9ef33d",
   "metadata": {},
   "outputs": [],
   "source": [
    "# Function to get top 5 predictions for each sample\n",
    "def get_top5_predictions(model, X):\n",
    "    # Get probability scores for each class\n",
    "    if hasattr(model, 'predict_proba'):\n",
    "        proba = model.predict_proba(X)\n",
    "    else:\n",
    "        # For models without predict_proba\n",
    "        print(\"Warning: Model doesn't have predict_proba. Using alternative approach.\")\n",
    "        # Example alternative for XGBoost:\n",
    "        if isinstance(model, xgb.XGBClassifier):\n",
    "            proba = model.predict_proba(X)\n",
    "        else:\n",
    "            raise ValueError(\"Model doesn't support probability predictions\")\n",
    "    \n",
    "    # Get classes\n",
    "    classes = model.classes_\n",
    "    \n",
    "    # Get top 5 indices\n",
    "    top5_indices = np.argsort(-proba, axis=1)[:, :5]\n",
    "    \n",
    "    # Convert indices to class labels\n",
    "    top5_predictions = np.take(classes, top5_indices)\n",
    "    \n",
    "    return top5_predictions"
   ]
  },
  {
   "cell_type": "code",
   "execution_count": null,
   "id": "6c41e127",
   "metadata": {},
   "outputs": [],
   "source": [
    "# Function to get top 5 predictions for each sample\n",
    "def get_top5_predictions(model, X):\n",
    "    # Get probability scores for each class\n",
    "    if hasattr(model, 'predict_proba'):\n",
    "        proba = model.predict_proba(X)\n",
    "    else:\n",
    "        # For models without predict_proba\n",
    "        print(\"Warning: Model doesn't have predict_proba. Using alternative approach.\")\n",
    "        # Example alternative for XGBoost:\n",
    "        if isinstance(model, xgb.XGBClassifier):\n",
    "            proba = model.predict_proba(X)\n",
    "        else:\n",
    "            raise ValueError(\"Model doesn't support probability predictions\")\n",
    "    \n",
    "    # Get top 5 indices\n",
    "    top5_indices = np.argsort(-proba, axis=1)[:, :5]\n",
    "    \n",
    "    # Convert indices to original class labels\n",
    "    top5_predictions = target_encoder.inverse_transform(top5_indices.flatten()).reshape(top5_indices.shape)\n",
    "    \n",
    "    return top5_predictions"
   ]
  },
  {
   "cell_type": "code",
   "execution_count": null,
   "id": "e62bcfea",
   "metadata": {},
   "outputs": [],
   "source": [
    "# Get top 5 predictions for validation set\n",
    "top5_preds = get_top5_predictions(final_model, X_val)\n",
    "\n",
    "# Check a few examples\n",
    "for i in range(min(5, len(y_val))):\n",
    "    print(f\"Sample {i+1}:\")\n",
    "    print(f\"True destination: {y_val.iloc[i]}\")\n",
    "    print(f\"Top 5 predictions: {top5_preds[i]}\")\n",
    "    print(\"-\" * 40)"
   ]
  },
  {
   "cell_type": "code",
   "execution_count": null,
   "id": "62e6f435",
   "metadata": {},
   "outputs": [],
   "source": [
    "# Calculate how often the true label is in the top 5 predictions\n",
    "hits = 0\n",
    "for i, true_label in enumerate(y_val):\n",
    "    if true_label in top5_preds[i]:\n",
    "        hits += 1\n",
    "\n",
    "top5_accuracy = hits / len(y_val)\n",
    "print(f\"Top-5 Accuracy: {top5_accuracy:.4f}\")"
   ]
  },
  {
   "cell_type": "markdown",
   "id": "b37f73d3",
   "metadata": {},
   "source": [
    "## 11. Summary of Results\n",
    "\n",
    "Let's summarize our model training process and results."
   ]
  },
  {
   "cell_type": "code",
   "execution_count": null,
   "id": "b1b14df5",
   "metadata": {},
   "outputs": [],
   "source": [
    "# Create a summary DataFrame\n",
    "summary = pd.DataFrame({\n",
    "    'Metric': ['Accuracy', 'F1 Score (weighted)', 'Top-5 Accuracy'],\n",
    "    'Value': [accuracy, f1, top5_accuracy]\n",
    "})\n",
    "\n",
    "print(f\"Final Model: {best_model_name}\")\n",
    "summary"
   ]
  },
  {
   "cell_type": "code",
   "execution_count": null,
   "id": "a7efaa0e",
   "metadata": {},
   "outputs": [],
   "source": [
    "# Plot final feature importance\n",
    "if hasattr(final_model, 'feature_importances_') or hasattr(final_model, 'coef_'):\n",
    "    feature_importance_df = plot_feature_importance(final_model, X_train.columns, f\"Final {best_model_name}\", top_n=20)\n",
    "    \n",
    "    # Save feature importance plot\n",
    "    plt.figure(figsize=(10, 8))\n",
    "    sns.barplot(x='Importance', y='Feature', data=feature_importance_df)\n",
    "    plt.title(f'Top 20 Feature Importance - Final {best_model_name}')\n",
    "    plt.tight_layout()\n",
    "    plt.savefig(\"../outputs/feature_importance.png\", dpi=300, bbox_inches='tight')\n",
    "    plt.close()"
   ]
  },
  {
   "cell_type": "markdown",
   "id": "a15d7134",
   "metadata": {},
   "source": [
    "## 12. Save Model Pipeline for Inference\n",
    "\n",
    "Finally, let's save the complete pipeline for making predictions on new users."
   ]
  },
  {
   "cell_type": "code",
   "execution_count": null,
   "id": "2ba31aa5",
   "metadata": {},
   "outputs": [],
   "source": [
    "# Create a dictionary with all components needed for inference\n",
    "pipeline_components = {\n",
    "    'model': final_model,\n",
    "    'feature_names': X_train.columns.tolist(),\n",
    "    'target_classes': final_model.classes_.tolist()\n",
    "}\n",
    "\n",
    "# Save the pipeline\n",
    "pipeline_filename = \"../models/prediction_pipeline.pkl\"\n",
    "with open(pipeline_filename, 'wb') as f:\n",
    "    pickle.dump(pipeline_components, f)\n",
    "\n",
    "print(f\"Prediction pipeline saved to {pipeline_filename}\")"
   ]
  }
 ],
 "metadata": {
  "kernelspec": {
   "display_name": "base",
   "language": "python",
   "name": "python3"
  },
  "language_info": {
   "codemirror_mode": {
    "name": "ipython",
    "version": 3
   },
   "file_extension": ".py",
   "mimetype": "text/x-python",
   "name": "python",
   "nbconvert_exporter": "python",
   "pygments_lexer": "ipython3",
   "version": "3.12.3"
  }
 },
 "nbformat": 4,
 "nbformat_minor": 5
}
