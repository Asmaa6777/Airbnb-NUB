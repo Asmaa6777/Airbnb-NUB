{
 "cells": [
  {
   "cell_type": "markdown",
   "id": "e43eb723",
   "metadata": {},
   "source": [
    "# 1. Data Exploration - Airbnb New User Booking Prediction\n",
    "\n",
    "## Objective\n",
    "Load and inspect the structure, quality, and shape of all datasets for the Airbnb New User Booking Prediction project."
   ]
  },
  {
   "cell_type": "markdown",
   "id": "84fd236b",
   "metadata": {},
   "source": [
    "## Import Required Libraries"
   ]
  },
  {
   "cell_type": "code",
   "execution_count": 31,
   "id": "86baef96",
   "metadata": {},
   "outputs": [],
   "source": [
    "import pandas as pd\n",
    "import numpy as np\n",
    "import matplotlib.pyplot as plt\n",
    "import seaborn as sns\n",
    "import os\n",
    "from datetime import datetime\n",
    "\n",
    "# Set plotting style\n",
    "sns.set_palette('viridis')\n",
    "\n",
    "# Display settings\n",
    "pd.set_option('display.max_columns', None)\n",
    "pd.set_option('display.max_rows', 100)\n",
    "pd.set_option('display.width', 1000)\n",
    "pd.set_option('display.float_format', '{:.2f}'.format)"
   ]
  },
  {
   "cell_type": "markdown",
   "id": "4538a7d1",
   "metadata": {},
   "source": [
    "## Load Datasets\n",
    "\n",
    "We'll load the following datasets:\n",
    "- `train_users_2.csv`: Contains training data with user profiles and destination labels\n",
    "- `test_users.csv`: Contains test data with user profiles (without labels)\n",
    "- `sessions.csv`: Contains session data for users"
   ]
  },
  {
   "cell_type": "code",
   "execution_count": 32,
   "id": "fd6e5a75",
   "metadata": {},
   "outputs": [
    {
     "name": "stdout",
     "output_type": "stream",
     "text": [
      "Train data shape: (213451, 16)\n",
      "Test data shape: (62096, 15)\n",
      "Sessions data shape: (10567737, 6)\n"
     ]
    }
   ],
   "source": [
    "# Define file paths\n",
    "train_path = '../train_users_2.csv'\n",
    "test_path = '../test_users.csv'\n",
    "sessions_path = '../sessions.csv'\n",
    "\n",
    "# Load train data\n",
    "train_df = pd.read_csv(train_path)\n",
    "print(f\"Train data shape: {train_df.shape}\")\n",
    "\n",
    "# Load test data\n",
    "test_df = pd.read_csv(test_path)\n",
    "print(f\"Test data shape: {test_df.shape}\")\n",
    "\n",
    "# Load sessions data (with low_memory=False to avoid mixed dtype warning)\n",
    "sessions_df = pd.read_csv(sessions_path, low_memory=False)\n",
    "print(f\"Sessions data shape: {sessions_df.shape}\")"
   ]
  },
  {
   "cell_type": "markdown",
   "id": "c1e5b303",
   "metadata": {},
   "source": [
    "## Data Overview - Training Data\n",
    "\n",
    "Let's look at the structure of the training data."
   ]
  },
  {
   "cell_type": "code",
   "execution_count": 33,
   "id": "f2a49c97",
   "metadata": {},
   "outputs": [
    {
     "name": "stdout",
     "output_type": "stream",
     "text": [
      "First 5 rows of training data:\n"
     ]
    },
    {
     "data": {
      "application/vnd.microsoft.datawrangler.viewer.v0+json": {
       "columns": [
        {
         "name": "index",
         "rawType": "int64",
         "type": "integer"
        },
        {
         "name": "id",
         "rawType": "object",
         "type": "string"
        },
        {
         "name": "date_account_created",
         "rawType": "object",
         "type": "string"
        },
        {
         "name": "timestamp_first_active",
         "rawType": "int64",
         "type": "integer"
        },
        {
         "name": "date_first_booking",
         "rawType": "object",
         "type": "unknown"
        },
        {
         "name": "gender",
         "rawType": "object",
         "type": "string"
        },
        {
         "name": "age",
         "rawType": "float64",
         "type": "float"
        },
        {
         "name": "signup_method",
         "rawType": "object",
         "type": "string"
        },
        {
         "name": "signup_flow",
         "rawType": "int64",
         "type": "integer"
        },
        {
         "name": "language",
         "rawType": "object",
         "type": "string"
        },
        {
         "name": "affiliate_channel",
         "rawType": "object",
         "type": "string"
        },
        {
         "name": "affiliate_provider",
         "rawType": "object",
         "type": "string"
        },
        {
         "name": "first_affiliate_tracked",
         "rawType": "object",
         "type": "string"
        },
        {
         "name": "signup_app",
         "rawType": "object",
         "type": "string"
        },
        {
         "name": "first_device_type",
         "rawType": "object",
         "type": "string"
        },
        {
         "name": "first_browser",
         "rawType": "object",
         "type": "string"
        },
        {
         "name": "country_destination",
         "rawType": "object",
         "type": "string"
        }
       ],
       "conversionMethod": "pd.DataFrame",
       "ref": "9e607047-6d47-4ab3-8d3b-e22de8bd1943",
       "rows": [
        [
         "0",
         "gxn3p5htnn",
         "2010-06-28",
         "20090319043255",
         null,
         "-unknown-",
         null,
         "facebook",
         "0",
         "en",
         "direct",
         "direct",
         "untracked",
         "Web",
         "Mac Desktop",
         "Chrome",
         "NDF"
        ],
        [
         "1",
         "820tgsjxq7",
         "2011-05-25",
         "20090523174809",
         null,
         "MALE",
         "38.0",
         "facebook",
         "0",
         "en",
         "seo",
         "google",
         "untracked",
         "Web",
         "Mac Desktop",
         "Chrome",
         "NDF"
        ],
        [
         "2",
         "4ft3gnwmtx",
         "2010-09-28",
         "20090609231247",
         "2010-08-02",
         "FEMALE",
         "56.0",
         "basic",
         "3",
         "en",
         "direct",
         "direct",
         "untracked",
         "Web",
         "Windows Desktop",
         "IE",
         "US"
        ],
        [
         "3",
         "bjjt8pjhuk",
         "2011-12-05",
         "20091031060129",
         "2012-09-08",
         "FEMALE",
         "42.0",
         "facebook",
         "0",
         "en",
         "direct",
         "direct",
         "untracked",
         "Web",
         "Mac Desktop",
         "Firefox",
         "other"
        ],
        [
         "4",
         "87mebub9p4",
         "2010-09-14",
         "20091208061105",
         "2010-02-18",
         "-unknown-",
         "41.0",
         "basic",
         "0",
         "en",
         "direct",
         "direct",
         "untracked",
         "Web",
         "Mac Desktop",
         "Chrome",
         "US"
        ]
       ],
       "shape": {
        "columns": 16,
        "rows": 5
       }
      },
      "text/html": [
       "<div>\n",
       "<style scoped>\n",
       "    .dataframe tbody tr th:only-of-type {\n",
       "        vertical-align: middle;\n",
       "    }\n",
       "\n",
       "    .dataframe tbody tr th {\n",
       "        vertical-align: top;\n",
       "    }\n",
       "\n",
       "    .dataframe thead th {\n",
       "        text-align: right;\n",
       "    }\n",
       "</style>\n",
       "<table border=\"1\" class=\"dataframe\">\n",
       "  <thead>\n",
       "    <tr style=\"text-align: right;\">\n",
       "      <th></th>\n",
       "      <th>id</th>\n",
       "      <th>date_account_created</th>\n",
       "      <th>timestamp_first_active</th>\n",
       "      <th>date_first_booking</th>\n",
       "      <th>gender</th>\n",
       "      <th>age</th>\n",
       "      <th>signup_method</th>\n",
       "      <th>signup_flow</th>\n",
       "      <th>language</th>\n",
       "      <th>affiliate_channel</th>\n",
       "      <th>affiliate_provider</th>\n",
       "      <th>first_affiliate_tracked</th>\n",
       "      <th>signup_app</th>\n",
       "      <th>first_device_type</th>\n",
       "      <th>first_browser</th>\n",
       "      <th>country_destination</th>\n",
       "    </tr>\n",
       "  </thead>\n",
       "  <tbody>\n",
       "    <tr>\n",
       "      <th>0</th>\n",
       "      <td>gxn3p5htnn</td>\n",
       "      <td>2010-06-28</td>\n",
       "      <td>20090319043255</td>\n",
       "      <td>NaN</td>\n",
       "      <td>-unknown-</td>\n",
       "      <td>NaN</td>\n",
       "      <td>facebook</td>\n",
       "      <td>0</td>\n",
       "      <td>en</td>\n",
       "      <td>direct</td>\n",
       "      <td>direct</td>\n",
       "      <td>untracked</td>\n",
       "      <td>Web</td>\n",
       "      <td>Mac Desktop</td>\n",
       "      <td>Chrome</td>\n",
       "      <td>NDF</td>\n",
       "    </tr>\n",
       "    <tr>\n",
       "      <th>1</th>\n",
       "      <td>820tgsjxq7</td>\n",
       "      <td>2011-05-25</td>\n",
       "      <td>20090523174809</td>\n",
       "      <td>NaN</td>\n",
       "      <td>MALE</td>\n",
       "      <td>38.00</td>\n",
       "      <td>facebook</td>\n",
       "      <td>0</td>\n",
       "      <td>en</td>\n",
       "      <td>seo</td>\n",
       "      <td>google</td>\n",
       "      <td>untracked</td>\n",
       "      <td>Web</td>\n",
       "      <td>Mac Desktop</td>\n",
       "      <td>Chrome</td>\n",
       "      <td>NDF</td>\n",
       "    </tr>\n",
       "    <tr>\n",
       "      <th>2</th>\n",
       "      <td>4ft3gnwmtx</td>\n",
       "      <td>2010-09-28</td>\n",
       "      <td>20090609231247</td>\n",
       "      <td>2010-08-02</td>\n",
       "      <td>FEMALE</td>\n",
       "      <td>56.00</td>\n",
       "      <td>basic</td>\n",
       "      <td>3</td>\n",
       "      <td>en</td>\n",
       "      <td>direct</td>\n",
       "      <td>direct</td>\n",
       "      <td>untracked</td>\n",
       "      <td>Web</td>\n",
       "      <td>Windows Desktop</td>\n",
       "      <td>IE</td>\n",
       "      <td>US</td>\n",
       "    </tr>\n",
       "    <tr>\n",
       "      <th>3</th>\n",
       "      <td>bjjt8pjhuk</td>\n",
       "      <td>2011-12-05</td>\n",
       "      <td>20091031060129</td>\n",
       "      <td>2012-09-08</td>\n",
       "      <td>FEMALE</td>\n",
       "      <td>42.00</td>\n",
       "      <td>facebook</td>\n",
       "      <td>0</td>\n",
       "      <td>en</td>\n",
       "      <td>direct</td>\n",
       "      <td>direct</td>\n",
       "      <td>untracked</td>\n",
       "      <td>Web</td>\n",
       "      <td>Mac Desktop</td>\n",
       "      <td>Firefox</td>\n",
       "      <td>other</td>\n",
       "    </tr>\n",
       "    <tr>\n",
       "      <th>4</th>\n",
       "      <td>87mebub9p4</td>\n",
       "      <td>2010-09-14</td>\n",
       "      <td>20091208061105</td>\n",
       "      <td>2010-02-18</td>\n",
       "      <td>-unknown-</td>\n",
       "      <td>41.00</td>\n",
       "      <td>basic</td>\n",
       "      <td>0</td>\n",
       "      <td>en</td>\n",
       "      <td>direct</td>\n",
       "      <td>direct</td>\n",
       "      <td>untracked</td>\n",
       "      <td>Web</td>\n",
       "      <td>Mac Desktop</td>\n",
       "      <td>Chrome</td>\n",
       "      <td>US</td>\n",
       "    </tr>\n",
       "  </tbody>\n",
       "</table>\n",
       "</div>"
      ],
      "text/plain": [
       "           id date_account_created  timestamp_first_active date_first_booking     gender   age signup_method  signup_flow language affiliate_channel affiliate_provider first_affiliate_tracked signup_app first_device_type first_browser country_destination\n",
       "0  gxn3p5htnn           2010-06-28          20090319043255                NaN  -unknown-   NaN      facebook            0       en            direct             direct               untracked        Web       Mac Desktop        Chrome                 NDF\n",
       "1  820tgsjxq7           2011-05-25          20090523174809                NaN       MALE 38.00      facebook            0       en               seo             google               untracked        Web       Mac Desktop        Chrome                 NDF\n",
       "2  4ft3gnwmtx           2010-09-28          20090609231247         2010-08-02     FEMALE 56.00         basic            3       en            direct             direct               untracked        Web   Windows Desktop            IE                  US\n",
       "3  bjjt8pjhuk           2011-12-05          20091031060129         2012-09-08     FEMALE 42.00      facebook            0       en            direct             direct               untracked        Web       Mac Desktop       Firefox               other\n",
       "4  87mebub9p4           2010-09-14          20091208061105         2010-02-18  -unknown- 41.00         basic            0       en            direct             direct               untracked        Web       Mac Desktop        Chrome                  US"
      ]
     },
     "execution_count": 33,
     "metadata": {},
     "output_type": "execute_result"
    }
   ],
   "source": [
    "# Display head of training data\n",
    "print(\"First 5 rows of training data:\")\n",
    "train_df.head()"
   ]
  },
  {
   "cell_type": "code",
   "execution_count": 34,
   "id": "fdea42a7",
   "metadata": {},
   "outputs": [
    {
     "name": "stdout",
     "output_type": "stream",
     "text": [
      "\n",
      "Training data info:\n",
      "<class 'pandas.core.frame.DataFrame'>\n",
      "RangeIndex: 213451 entries, 0 to 213450\n",
      "Data columns (total 16 columns):\n",
      " #   Column                   Non-Null Count   Dtype  \n",
      "---  ------                   --------------   -----  \n",
      " 0   id                       213451 non-null  object \n",
      " 1   date_account_created     213451 non-null  object \n",
      " 2   timestamp_first_active   213451 non-null  int64  \n",
      " 3   date_first_booking       88908 non-null   object \n",
      " 4   gender                   213451 non-null  object \n",
      " 5   age                      125461 non-null  float64\n",
      " 6   signup_method            213451 non-null  object \n",
      " 7   signup_flow              213451 non-null  int64  \n",
      " 8   language                 213451 non-null  object \n",
      " 9   affiliate_channel        213451 non-null  object \n",
      " 10  affiliate_provider       213451 non-null  object \n",
      " 11  first_affiliate_tracked  207386 non-null  object \n",
      " 12  signup_app               213451 non-null  object \n",
      " 13  first_device_type        213451 non-null  object \n",
      " 14  first_browser            213451 non-null  object \n",
      " 15  country_destination      213451 non-null  object \n",
      "dtypes: float64(1), int64(2), object(13)\n",
      "memory usage: 26.1+ MB\n"
     ]
    }
   ],
   "source": [
    "# Display column information\n",
    "print(\"\\nTraining data info:\")\n",
    "train_df.info()"
   ]
  },
  {
   "cell_type": "code",
   "execution_count": 35,
   "id": "af636b02",
   "metadata": {},
   "outputs": [
    {
     "name": "stdout",
     "output_type": "stream",
     "text": [
      "\n",
      "Training data descriptive statistics:\n"
     ]
    },
    {
     "data": {
      "application/vnd.microsoft.datawrangler.viewer.v0+json": {
       "columns": [
        {
         "name": "index",
         "rawType": "object",
         "type": "string"
        },
        {
         "name": "count",
         "rawType": "float64",
         "type": "float"
        },
        {
         "name": "mean",
         "rawType": "float64",
         "type": "float"
        },
        {
         "name": "std",
         "rawType": "float64",
         "type": "float"
        },
        {
         "name": "min",
         "rawType": "float64",
         "type": "float"
        },
        {
         "name": "25%",
         "rawType": "float64",
         "type": "float"
        },
        {
         "name": "50%",
         "rawType": "float64",
         "type": "float"
        },
        {
         "name": "75%",
         "rawType": "float64",
         "type": "float"
        },
        {
         "name": "max",
         "rawType": "float64",
         "type": "float"
        }
       ],
       "conversionMethod": "pd.DataFrame",
       "ref": "85ec19cf-00ad-4d96-9e02-82b6060925e5",
       "rows": [
        [
         "timestamp_first_active",
         "213451.0",
         "20130850417367.258",
         "9253717046.583824",
         "20090319043255.0",
         "20121225073327.5",
         "20130911061308.0",
         "20140306082494.0",
         "20140630235824.0"
        ],
        [
         "age",
         "125461.0",
         "49.66833517985669",
         "155.666611830215",
         "1.0",
         "28.0",
         "34.0",
         "43.0",
         "2014.0"
        ],
        [
         "signup_flow",
         "213451.0",
         "3.2673868944160485",
         "7.637706869433541",
         "0.0",
         "0.0",
         "0.0",
         "0.0",
         "25.0"
        ]
       ],
       "shape": {
        "columns": 8,
        "rows": 3
       }
      },
      "text/html": [
       "<div>\n",
       "<style scoped>\n",
       "    .dataframe tbody tr th:only-of-type {\n",
       "        vertical-align: middle;\n",
       "    }\n",
       "\n",
       "    .dataframe tbody tr th {\n",
       "        vertical-align: top;\n",
       "    }\n",
       "\n",
       "    .dataframe thead th {\n",
       "        text-align: right;\n",
       "    }\n",
       "</style>\n",
       "<table border=\"1\" class=\"dataframe\">\n",
       "  <thead>\n",
       "    <tr style=\"text-align: right;\">\n",
       "      <th></th>\n",
       "      <th>count</th>\n",
       "      <th>mean</th>\n",
       "      <th>std</th>\n",
       "      <th>min</th>\n",
       "      <th>25%</th>\n",
       "      <th>50%</th>\n",
       "      <th>75%</th>\n",
       "      <th>max</th>\n",
       "    </tr>\n",
       "  </thead>\n",
       "  <tbody>\n",
       "    <tr>\n",
       "      <th>timestamp_first_active</th>\n",
       "      <td>213451.00</td>\n",
       "      <td>20130850417367.26</td>\n",
       "      <td>9253717046.58</td>\n",
       "      <td>20090319043255.00</td>\n",
       "      <td>20121225073327.50</td>\n",
       "      <td>20130911061308.00</td>\n",
       "      <td>20140306082494.00</td>\n",
       "      <td>20140630235824.00</td>\n",
       "    </tr>\n",
       "    <tr>\n",
       "      <th>age</th>\n",
       "      <td>125461.00</td>\n",
       "      <td>49.67</td>\n",
       "      <td>155.67</td>\n",
       "      <td>1.00</td>\n",
       "      <td>28.00</td>\n",
       "      <td>34.00</td>\n",
       "      <td>43.00</td>\n",
       "      <td>2014.00</td>\n",
       "    </tr>\n",
       "    <tr>\n",
       "      <th>signup_flow</th>\n",
       "      <td>213451.00</td>\n",
       "      <td>3.27</td>\n",
       "      <td>7.64</td>\n",
       "      <td>0.00</td>\n",
       "      <td>0.00</td>\n",
       "      <td>0.00</td>\n",
       "      <td>0.00</td>\n",
       "      <td>25.00</td>\n",
       "    </tr>\n",
       "  </tbody>\n",
       "</table>\n",
       "</div>"
      ],
      "text/plain": [
       "                           count              mean           std               min               25%               50%               75%               max\n",
       "timestamp_first_active 213451.00 20130850417367.26 9253717046.58 20090319043255.00 20121225073327.50 20130911061308.00 20140306082494.00 20140630235824.00\n",
       "age                    125461.00             49.67        155.67              1.00             28.00             34.00             43.00           2014.00\n",
       "signup_flow            213451.00              3.27          7.64              0.00              0.00              0.00              0.00             25.00"
      ]
     },
     "execution_count": 35,
     "metadata": {},
     "output_type": "execute_result"
    }
   ],
   "source": [
    "# Display descriptive statistics for training data\n",
    "print(\"\\nTraining data descriptive statistics:\")\n",
    "train_df.describe().T"
   ]
  },
  {
   "cell_type": "code",
   "execution_count": 36,
   "id": "98e3b808",
   "metadata": {},
   "outputs": [
    {
     "name": "stdout",
     "output_type": "stream",
     "text": [
      "Missing values in training data:\n"
     ]
    },
    {
     "data": {
      "application/vnd.microsoft.datawrangler.viewer.v0+json": {
       "columns": [
        {
         "name": "index",
         "rawType": "object",
         "type": "string"
        },
        {
         "name": "Missing Values",
         "rawType": "int64",
         "type": "integer"
        },
        {
         "name": "Percentage",
         "rawType": "float64",
         "type": "float"
        }
       ],
       "conversionMethod": "pd.DataFrame",
       "ref": "d91e4d18-558f-4ac5-80e5-bed75eccb911",
       "rows": [
        [
         "date_first_booking",
         "124543",
         "58.34734904029496"
        ],
        [
         "age",
         "87990",
         "41.222575673105304"
        ],
        [
         "first_affiliate_tracked",
         "6065",
         "2.84140153946339"
        ]
       ],
       "shape": {
        "columns": 2,
        "rows": 3
       }
      },
      "text/html": [
       "<div>\n",
       "<style scoped>\n",
       "    .dataframe tbody tr th:only-of-type {\n",
       "        vertical-align: middle;\n",
       "    }\n",
       "\n",
       "    .dataframe tbody tr th {\n",
       "        vertical-align: top;\n",
       "    }\n",
       "\n",
       "    .dataframe thead th {\n",
       "        text-align: right;\n",
       "    }\n",
       "</style>\n",
       "<table border=\"1\" class=\"dataframe\">\n",
       "  <thead>\n",
       "    <tr style=\"text-align: right;\">\n",
       "      <th></th>\n",
       "      <th>Missing Values</th>\n",
       "      <th>Percentage</th>\n",
       "    </tr>\n",
       "  </thead>\n",
       "  <tbody>\n",
       "    <tr>\n",
       "      <th>date_first_booking</th>\n",
       "      <td>124543</td>\n",
       "      <td>58.35</td>\n",
       "    </tr>\n",
       "    <tr>\n",
       "      <th>age</th>\n",
       "      <td>87990</td>\n",
       "      <td>41.22</td>\n",
       "    </tr>\n",
       "    <tr>\n",
       "      <th>first_affiliate_tracked</th>\n",
       "      <td>6065</td>\n",
       "      <td>2.84</td>\n",
       "    </tr>\n",
       "  </tbody>\n",
       "</table>\n",
       "</div>"
      ],
      "text/plain": [
       "                         Missing Values  Percentage\n",
       "date_first_booking               124543       58.35\n",
       "age                               87990       41.22\n",
       "first_affiliate_tracked            6065        2.84"
      ]
     },
     "execution_count": 36,
     "metadata": {},
     "output_type": "execute_result"
    }
   ],
   "source": [
    "# Check for missing values in training data\n",
    "missing_values = train_df.isnull().sum().sort_values(ascending=False)\n",
    "missing_percent = (missing_values / len(train_df) * 100)\n",
    "\n",
    "missing_df = pd.DataFrame({\n",
    "    'Missing Values': missing_values,\n",
    "    'Percentage': missing_percent\n",
    "})\n",
    "\n",
    "print(\"Missing values in training data:\")\n",
    "missing_df[missing_df['Missing Values'] > 0]"
   ]
  },
  {
   "cell_type": "markdown",
   "id": "856206ff",
   "metadata": {},
   "source": [
    "A LOT of Missing Data!"
   ]
  },
  {
   "cell_type": "markdown",
   "id": "77c6ccb0",
   "metadata": {},
   "source": [
    "## Data Overview - Test Data"
   ]
  },
  {
   "cell_type": "code",
   "execution_count": 37,
   "id": "25708f2d",
   "metadata": {},
   "outputs": [
    {
     "name": "stdout",
     "output_type": "stream",
     "text": [
      "First 5 rows of test data:\n"
     ]
    },
    {
     "data": {
      "application/vnd.microsoft.datawrangler.viewer.v0+json": {
       "columns": [
        {
         "name": "index",
         "rawType": "int64",
         "type": "integer"
        },
        {
         "name": "id",
         "rawType": "object",
         "type": "string"
        },
        {
         "name": "date_account_created",
         "rawType": "object",
         "type": "string"
        },
        {
         "name": "timestamp_first_active",
         "rawType": "int64",
         "type": "integer"
        },
        {
         "name": "date_first_booking",
         "rawType": "float64",
         "type": "float"
        },
        {
         "name": "gender",
         "rawType": "object",
         "type": "string"
        },
        {
         "name": "age",
         "rawType": "float64",
         "type": "float"
        },
        {
         "name": "signup_method",
         "rawType": "object",
         "type": "string"
        },
        {
         "name": "signup_flow",
         "rawType": "int64",
         "type": "integer"
        },
        {
         "name": "language",
         "rawType": "object",
         "type": "string"
        },
        {
         "name": "affiliate_channel",
         "rawType": "object",
         "type": "string"
        },
        {
         "name": "affiliate_provider",
         "rawType": "object",
         "type": "string"
        },
        {
         "name": "first_affiliate_tracked",
         "rawType": "object",
         "type": "string"
        },
        {
         "name": "signup_app",
         "rawType": "object",
         "type": "string"
        },
        {
         "name": "first_device_type",
         "rawType": "object",
         "type": "string"
        },
        {
         "name": "first_browser",
         "rawType": "object",
         "type": "string"
        }
       ],
       "conversionMethod": "pd.DataFrame",
       "ref": "9865713c-166a-4a8a-9ccc-573c279c1485",
       "rows": [
        [
         "0",
         "5uwns89zht",
         "2014-07-01",
         "20140701000006",
         null,
         "FEMALE",
         "35.0",
         "facebook",
         "0",
         "en",
         "direct",
         "direct",
         "untracked",
         "Moweb",
         "iPhone",
         "Mobile Safari"
        ],
        [
         "1",
         "jtl0dijy2j",
         "2014-07-01",
         "20140701000051",
         null,
         "-unknown-",
         null,
         "basic",
         "0",
         "en",
         "direct",
         "direct",
         "untracked",
         "Moweb",
         "iPhone",
         "Mobile Safari"
        ],
        [
         "2",
         "xx0ulgorjt",
         "2014-07-01",
         "20140701000148",
         null,
         "-unknown-",
         null,
         "basic",
         "0",
         "en",
         "direct",
         "direct",
         "linked",
         "Web",
         "Windows Desktop",
         "Chrome"
        ],
        [
         "3",
         "6c6puo6ix0",
         "2014-07-01",
         "20140701000215",
         null,
         "-unknown-",
         null,
         "basic",
         "0",
         "en",
         "direct",
         "direct",
         "linked",
         "Web",
         "Windows Desktop",
         "IE"
        ],
        [
         "4",
         "czqhjk3yfe",
         "2014-07-01",
         "20140701000305",
         null,
         "-unknown-",
         null,
         "basic",
         "0",
         "en",
         "direct",
         "direct",
         "untracked",
         "Web",
         "Mac Desktop",
         "Safari"
        ]
       ],
       "shape": {
        "columns": 15,
        "rows": 5
       }
      },
      "text/html": [
       "<div>\n",
       "<style scoped>\n",
       "    .dataframe tbody tr th:only-of-type {\n",
       "        vertical-align: middle;\n",
       "    }\n",
       "\n",
       "    .dataframe tbody tr th {\n",
       "        vertical-align: top;\n",
       "    }\n",
       "\n",
       "    .dataframe thead th {\n",
       "        text-align: right;\n",
       "    }\n",
       "</style>\n",
       "<table border=\"1\" class=\"dataframe\">\n",
       "  <thead>\n",
       "    <tr style=\"text-align: right;\">\n",
       "      <th></th>\n",
       "      <th>id</th>\n",
       "      <th>date_account_created</th>\n",
       "      <th>timestamp_first_active</th>\n",
       "      <th>date_first_booking</th>\n",
       "      <th>gender</th>\n",
       "      <th>age</th>\n",
       "      <th>signup_method</th>\n",
       "      <th>signup_flow</th>\n",
       "      <th>language</th>\n",
       "      <th>affiliate_channel</th>\n",
       "      <th>affiliate_provider</th>\n",
       "      <th>first_affiliate_tracked</th>\n",
       "      <th>signup_app</th>\n",
       "      <th>first_device_type</th>\n",
       "      <th>first_browser</th>\n",
       "    </tr>\n",
       "  </thead>\n",
       "  <tbody>\n",
       "    <tr>\n",
       "      <th>0</th>\n",
       "      <td>5uwns89zht</td>\n",
       "      <td>2014-07-01</td>\n",
       "      <td>20140701000006</td>\n",
       "      <td>NaN</td>\n",
       "      <td>FEMALE</td>\n",
       "      <td>35.00</td>\n",
       "      <td>facebook</td>\n",
       "      <td>0</td>\n",
       "      <td>en</td>\n",
       "      <td>direct</td>\n",
       "      <td>direct</td>\n",
       "      <td>untracked</td>\n",
       "      <td>Moweb</td>\n",
       "      <td>iPhone</td>\n",
       "      <td>Mobile Safari</td>\n",
       "    </tr>\n",
       "    <tr>\n",
       "      <th>1</th>\n",
       "      <td>jtl0dijy2j</td>\n",
       "      <td>2014-07-01</td>\n",
       "      <td>20140701000051</td>\n",
       "      <td>NaN</td>\n",
       "      <td>-unknown-</td>\n",
       "      <td>NaN</td>\n",
       "      <td>basic</td>\n",
       "      <td>0</td>\n",
       "      <td>en</td>\n",
       "      <td>direct</td>\n",
       "      <td>direct</td>\n",
       "      <td>untracked</td>\n",
       "      <td>Moweb</td>\n",
       "      <td>iPhone</td>\n",
       "      <td>Mobile Safari</td>\n",
       "    </tr>\n",
       "    <tr>\n",
       "      <th>2</th>\n",
       "      <td>xx0ulgorjt</td>\n",
       "      <td>2014-07-01</td>\n",
       "      <td>20140701000148</td>\n",
       "      <td>NaN</td>\n",
       "      <td>-unknown-</td>\n",
       "      <td>NaN</td>\n",
       "      <td>basic</td>\n",
       "      <td>0</td>\n",
       "      <td>en</td>\n",
       "      <td>direct</td>\n",
       "      <td>direct</td>\n",
       "      <td>linked</td>\n",
       "      <td>Web</td>\n",
       "      <td>Windows Desktop</td>\n",
       "      <td>Chrome</td>\n",
       "    </tr>\n",
       "    <tr>\n",
       "      <th>3</th>\n",
       "      <td>6c6puo6ix0</td>\n",
       "      <td>2014-07-01</td>\n",
       "      <td>20140701000215</td>\n",
       "      <td>NaN</td>\n",
       "      <td>-unknown-</td>\n",
       "      <td>NaN</td>\n",
       "      <td>basic</td>\n",
       "      <td>0</td>\n",
       "      <td>en</td>\n",
       "      <td>direct</td>\n",
       "      <td>direct</td>\n",
       "      <td>linked</td>\n",
       "      <td>Web</td>\n",
       "      <td>Windows Desktop</td>\n",
       "      <td>IE</td>\n",
       "    </tr>\n",
       "    <tr>\n",
       "      <th>4</th>\n",
       "      <td>czqhjk3yfe</td>\n",
       "      <td>2014-07-01</td>\n",
       "      <td>20140701000305</td>\n",
       "      <td>NaN</td>\n",
       "      <td>-unknown-</td>\n",
       "      <td>NaN</td>\n",
       "      <td>basic</td>\n",
       "      <td>0</td>\n",
       "      <td>en</td>\n",
       "      <td>direct</td>\n",
       "      <td>direct</td>\n",
       "      <td>untracked</td>\n",
       "      <td>Web</td>\n",
       "      <td>Mac Desktop</td>\n",
       "      <td>Safari</td>\n",
       "    </tr>\n",
       "  </tbody>\n",
       "</table>\n",
       "</div>"
      ],
      "text/plain": [
       "           id date_account_created  timestamp_first_active  date_first_booking     gender   age signup_method  signup_flow language affiliate_channel affiliate_provider first_affiliate_tracked signup_app first_device_type  first_browser\n",
       "0  5uwns89zht           2014-07-01          20140701000006                 NaN     FEMALE 35.00      facebook            0       en            direct             direct               untracked      Moweb            iPhone  Mobile Safari\n",
       "1  jtl0dijy2j           2014-07-01          20140701000051                 NaN  -unknown-   NaN         basic            0       en            direct             direct               untracked      Moweb            iPhone  Mobile Safari\n",
       "2  xx0ulgorjt           2014-07-01          20140701000148                 NaN  -unknown-   NaN         basic            0       en            direct             direct                  linked        Web   Windows Desktop         Chrome\n",
       "3  6c6puo6ix0           2014-07-01          20140701000215                 NaN  -unknown-   NaN         basic            0       en            direct             direct                  linked        Web   Windows Desktop             IE\n",
       "4  czqhjk3yfe           2014-07-01          20140701000305                 NaN  -unknown-   NaN         basic            0       en            direct             direct               untracked        Web       Mac Desktop         Safari"
      ]
     },
     "execution_count": 37,
     "metadata": {},
     "output_type": "execute_result"
    }
   ],
   "source": [
    "# Display head of test data\n",
    "print(\"First 5 rows of test data:\")\n",
    "test_df.head()"
   ]
  },
  {
   "cell_type": "code",
   "execution_count": 38,
   "id": "c206f23b",
   "metadata": {},
   "outputs": [
    {
     "name": "stdout",
     "output_type": "stream",
     "text": [
      "Missing values in test data:\n"
     ]
    },
    {
     "data": {
      "application/vnd.microsoft.datawrangler.viewer.v0+json": {
       "columns": [
        {
         "name": "index",
         "rawType": "object",
         "type": "string"
        },
        {
         "name": "Missing Values",
         "rawType": "int64",
         "type": "integer"
        },
        {
         "name": "Percentage",
         "rawType": "float64",
         "type": "float"
        }
       ],
       "conversionMethod": "pd.DataFrame",
       "ref": "862c8dd1-06f5-4aea-a548-4bd3df755d27",
       "rows": [
        [
         "date_first_booking",
         "62096",
         "100.0"
        ],
        [
         "age",
         "28876",
         "46.50219015717599"
        ],
        [
         "first_affiliate_tracked",
         "20",
         "0.03220819376449369"
        ]
       ],
       "shape": {
        "columns": 2,
        "rows": 3
       }
      },
      "text/html": [
       "<div>\n",
       "<style scoped>\n",
       "    .dataframe tbody tr th:only-of-type {\n",
       "        vertical-align: middle;\n",
       "    }\n",
       "\n",
       "    .dataframe tbody tr th {\n",
       "        vertical-align: top;\n",
       "    }\n",
       "\n",
       "    .dataframe thead th {\n",
       "        text-align: right;\n",
       "    }\n",
       "</style>\n",
       "<table border=\"1\" class=\"dataframe\">\n",
       "  <thead>\n",
       "    <tr style=\"text-align: right;\">\n",
       "      <th></th>\n",
       "      <th>Missing Values</th>\n",
       "      <th>Percentage</th>\n",
       "    </tr>\n",
       "  </thead>\n",
       "  <tbody>\n",
       "    <tr>\n",
       "      <th>date_first_booking</th>\n",
       "      <td>62096</td>\n",
       "      <td>100.00</td>\n",
       "    </tr>\n",
       "    <tr>\n",
       "      <th>age</th>\n",
       "      <td>28876</td>\n",
       "      <td>46.50</td>\n",
       "    </tr>\n",
       "    <tr>\n",
       "      <th>first_affiliate_tracked</th>\n",
       "      <td>20</td>\n",
       "      <td>0.03</td>\n",
       "    </tr>\n",
       "  </tbody>\n",
       "</table>\n",
       "</div>"
      ],
      "text/plain": [
       "                         Missing Values  Percentage\n",
       "date_first_booking                62096      100.00\n",
       "age                               28876       46.50\n",
       "first_affiliate_tracked              20        0.03"
      ]
     },
     "execution_count": 38,
     "metadata": {},
     "output_type": "execute_result"
    }
   ],
   "source": [
    "# Check for missing values in test data\n",
    "missing_values_test = test_df.isnull().sum().sort_values(ascending=False)\n",
    "missing_percent_test = (missing_values_test / len(test_df) * 100)\n",
    "\n",
    "missing_df_test = pd.DataFrame({\n",
    "    'Missing Values': missing_values_test,\n",
    "    'Percentage': missing_percent_test\n",
    "})\n",
    "\n",
    "print(\"Missing values in test data:\")\n",
    "missing_df_test[missing_df_test['Missing Values'] > 0]"
   ]
  },
  {
   "cell_type": "markdown",
   "id": "c0bdc9fc",
   "metadata": {},
   "source": [
    "All *date_first_booking* are missing!!"
   ]
  },
  {
   "cell_type": "markdown",
   "id": "166e63e4",
   "metadata": {},
   "source": [
    "## Data Overview - Sessions Data"
   ]
  },
  {
   "cell_type": "code",
   "execution_count": 39,
   "id": "a52252e5",
   "metadata": {},
   "outputs": [
    {
     "name": "stdout",
     "output_type": "stream",
     "text": [
      "First 5 rows of sessions data:\n"
     ]
    },
    {
     "data": {
      "application/vnd.microsoft.datawrangler.viewer.v0+json": {
       "columns": [
        {
         "name": "index",
         "rawType": "int64",
         "type": "integer"
        },
        {
         "name": "user_id",
         "rawType": "object",
         "type": "string"
        },
        {
         "name": "action",
         "rawType": "object",
         "type": "string"
        },
        {
         "name": "action_type",
         "rawType": "object",
         "type": "unknown"
        },
        {
         "name": "action_detail",
         "rawType": "object",
         "type": "unknown"
        },
        {
         "name": "device_type",
         "rawType": "object",
         "type": "string"
        },
        {
         "name": "secs_elapsed",
         "rawType": "float64",
         "type": "float"
        }
       ],
       "conversionMethod": "pd.DataFrame",
       "ref": "c10c1725-b678-4665-bccd-542af20d53a5",
       "rows": [
        [
         "0",
         "d1mm9tcy42",
         "lookup",
         null,
         null,
         "Windows Desktop",
         "319.0"
        ],
        [
         "1",
         "d1mm9tcy42",
         "search_results",
         "click",
         "view_search_results",
         "Windows Desktop",
         "67753.0"
        ],
        [
         "2",
         "d1mm9tcy42",
         "lookup",
         null,
         null,
         "Windows Desktop",
         "301.0"
        ],
        [
         "3",
         "d1mm9tcy42",
         "search_results",
         "click",
         "view_search_results",
         "Windows Desktop",
         "22141.0"
        ],
        [
         "4",
         "d1mm9tcy42",
         "lookup",
         null,
         null,
         "Windows Desktop",
         "435.0"
        ]
       ],
       "shape": {
        "columns": 6,
        "rows": 5
       }
      },
      "text/html": [
       "<div>\n",
       "<style scoped>\n",
       "    .dataframe tbody tr th:only-of-type {\n",
       "        vertical-align: middle;\n",
       "    }\n",
       "\n",
       "    .dataframe tbody tr th {\n",
       "        vertical-align: top;\n",
       "    }\n",
       "\n",
       "    .dataframe thead th {\n",
       "        text-align: right;\n",
       "    }\n",
       "</style>\n",
       "<table border=\"1\" class=\"dataframe\">\n",
       "  <thead>\n",
       "    <tr style=\"text-align: right;\">\n",
       "      <th></th>\n",
       "      <th>user_id</th>\n",
       "      <th>action</th>\n",
       "      <th>action_type</th>\n",
       "      <th>action_detail</th>\n",
       "      <th>device_type</th>\n",
       "      <th>secs_elapsed</th>\n",
       "    </tr>\n",
       "  </thead>\n",
       "  <tbody>\n",
       "    <tr>\n",
       "      <th>0</th>\n",
       "      <td>d1mm9tcy42</td>\n",
       "      <td>lookup</td>\n",
       "      <td>NaN</td>\n",
       "      <td>NaN</td>\n",
       "      <td>Windows Desktop</td>\n",
       "      <td>319.00</td>\n",
       "    </tr>\n",
       "    <tr>\n",
       "      <th>1</th>\n",
       "      <td>d1mm9tcy42</td>\n",
       "      <td>search_results</td>\n",
       "      <td>click</td>\n",
       "      <td>view_search_results</td>\n",
       "      <td>Windows Desktop</td>\n",
       "      <td>67753.00</td>\n",
       "    </tr>\n",
       "    <tr>\n",
       "      <th>2</th>\n",
       "      <td>d1mm9tcy42</td>\n",
       "      <td>lookup</td>\n",
       "      <td>NaN</td>\n",
       "      <td>NaN</td>\n",
       "      <td>Windows Desktop</td>\n",
       "      <td>301.00</td>\n",
       "    </tr>\n",
       "    <tr>\n",
       "      <th>3</th>\n",
       "      <td>d1mm9tcy42</td>\n",
       "      <td>search_results</td>\n",
       "      <td>click</td>\n",
       "      <td>view_search_results</td>\n",
       "      <td>Windows Desktop</td>\n",
       "      <td>22141.00</td>\n",
       "    </tr>\n",
       "    <tr>\n",
       "      <th>4</th>\n",
       "      <td>d1mm9tcy42</td>\n",
       "      <td>lookup</td>\n",
       "      <td>NaN</td>\n",
       "      <td>NaN</td>\n",
       "      <td>Windows Desktop</td>\n",
       "      <td>435.00</td>\n",
       "    </tr>\n",
       "  </tbody>\n",
       "</table>\n",
       "</div>"
      ],
      "text/plain": [
       "      user_id          action action_type        action_detail      device_type  secs_elapsed\n",
       "0  d1mm9tcy42          lookup         NaN                  NaN  Windows Desktop        319.00\n",
       "1  d1mm9tcy42  search_results       click  view_search_results  Windows Desktop      67753.00\n",
       "2  d1mm9tcy42          lookup         NaN                  NaN  Windows Desktop        301.00\n",
       "3  d1mm9tcy42  search_results       click  view_search_results  Windows Desktop      22141.00\n",
       "4  d1mm9tcy42          lookup         NaN                  NaN  Windows Desktop        435.00"
      ]
     },
     "execution_count": 39,
     "metadata": {},
     "output_type": "execute_result"
    }
   ],
   "source": [
    "# Display head of sessions data\n",
    "print(\"First 5 rows of sessions data:\")\n",
    "sessions_df.head()"
   ]
  },
  {
   "cell_type": "code",
   "execution_count": 40,
   "id": "3a9a9b37",
   "metadata": {},
   "outputs": [
    {
     "name": "stdout",
     "output_type": "stream",
     "text": [
      "\n",
      "Sessions data info:\n",
      "<class 'pandas.core.frame.DataFrame'>\n",
      "RangeIndex: 10567737 entries, 0 to 10567736\n",
      "Data columns (total 6 columns):\n",
      " #   Column         Dtype  \n",
      "---  ------         -----  \n",
      " 0   user_id        object \n",
      " 1   action         object \n",
      " 2   action_type    object \n",
      " 3   action_detail  object \n",
      " 4   device_type    object \n",
      " 5   secs_elapsed   float64\n",
      "dtypes: float64(1), object(5)\n",
      "memory usage: 483.8+ MB\n"
     ]
    }
   ],
   "source": [
    "# Display column information\n",
    "print(\"\\nSessions data info:\")\n",
    "sessions_df.info()"
   ]
  },
  {
   "cell_type": "code",
   "execution_count": 41,
   "id": "688e67df",
   "metadata": {},
   "outputs": [
    {
     "name": "stdout",
     "output_type": "stream",
     "text": [
      "Missing values in sessions data:\n"
     ]
    },
    {
     "data": {
      "application/vnd.microsoft.datawrangler.viewer.v0+json": {
       "columns": [
        {
         "name": "index",
         "rawType": "object",
         "type": "string"
        },
        {
         "name": "Missing Values",
         "rawType": "int64",
         "type": "integer"
        },
        {
         "name": "Percentage",
         "rawType": "float64",
         "type": "float"
        }
       ],
       "conversionMethod": "pd.DataFrame",
       "ref": "02b67cb0-22b4-485d-aa42-5b8cc27d8b28",
       "rows": [
        [
         "action_type",
         "1126204",
         "10.657002535169072"
        ],
        [
         "action_detail",
         "1126204",
         "10.657002535169072"
        ],
        [
         "secs_elapsed",
         "136031",
         "1.2872292336571207"
        ],
        [
         "action",
         "79626",
         "0.7534820368826363"
        ],
        [
         "user_id",
         "34496",
         "0.3264275028797556"
        ]
       ],
       "shape": {
        "columns": 2,
        "rows": 5
       }
      },
      "text/html": [
       "<div>\n",
       "<style scoped>\n",
       "    .dataframe tbody tr th:only-of-type {\n",
       "        vertical-align: middle;\n",
       "    }\n",
       "\n",
       "    .dataframe tbody tr th {\n",
       "        vertical-align: top;\n",
       "    }\n",
       "\n",
       "    .dataframe thead th {\n",
       "        text-align: right;\n",
       "    }\n",
       "</style>\n",
       "<table border=\"1\" class=\"dataframe\">\n",
       "  <thead>\n",
       "    <tr style=\"text-align: right;\">\n",
       "      <th></th>\n",
       "      <th>Missing Values</th>\n",
       "      <th>Percentage</th>\n",
       "    </tr>\n",
       "  </thead>\n",
       "  <tbody>\n",
       "    <tr>\n",
       "      <th>action_type</th>\n",
       "      <td>1126204</td>\n",
       "      <td>10.66</td>\n",
       "    </tr>\n",
       "    <tr>\n",
       "      <th>action_detail</th>\n",
       "      <td>1126204</td>\n",
       "      <td>10.66</td>\n",
       "    </tr>\n",
       "    <tr>\n",
       "      <th>secs_elapsed</th>\n",
       "      <td>136031</td>\n",
       "      <td>1.29</td>\n",
       "    </tr>\n",
       "    <tr>\n",
       "      <th>action</th>\n",
       "      <td>79626</td>\n",
       "      <td>0.75</td>\n",
       "    </tr>\n",
       "    <tr>\n",
       "      <th>user_id</th>\n",
       "      <td>34496</td>\n",
       "      <td>0.33</td>\n",
       "    </tr>\n",
       "  </tbody>\n",
       "</table>\n",
       "</div>"
      ],
      "text/plain": [
       "               Missing Values  Percentage\n",
       "action_type           1126204       10.66\n",
       "action_detail         1126204       10.66\n",
       "secs_elapsed           136031        1.29\n",
       "action                  79626        0.75\n",
       "user_id                 34496        0.33"
      ]
     },
     "execution_count": 41,
     "metadata": {},
     "output_type": "execute_result"
    }
   ],
   "source": [
    "# Check for missing values in sessions data\n",
    "missing_values_sessions = sessions_df.isnull().sum().sort_values(ascending=False)\n",
    "missing_percent_sessions = (missing_values_sessions / len(sessions_df) * 100)\n",
    "\n",
    "missing_df_sessions = pd.DataFrame({\n",
    "    'Missing Values': missing_values_sessions,\n",
    "    'Percentage': missing_percent_sessions\n",
    "})\n",
    "\n",
    "print(\"Missing values in sessions data:\")\n",
    "missing_df_sessions[missing_df_sessions['Missing Values'] > 0]"
   ]
  },
  {
   "cell_type": "markdown",
   "id": "c662f7c7",
   "metadata": {},
   "source": [
    "## Check for Duplicates"
   ]
  },
  {
   "cell_type": "code",
   "execution_count": 42,
   "id": "c130aa95",
   "metadata": {},
   "outputs": [
    {
     "name": "stdout",
     "output_type": "stream",
     "text": [
      "Number of duplicate user IDs in training data: 0\n",
      "Number of duplicate user IDs in test data: 0\n"
     ]
    }
   ],
   "source": [
    "# Check for duplicate user IDs in training data\n",
    "print(f\"Number of duplicate user IDs in training data: {train_df['id'].duplicated().sum()}\")\n",
    "\n",
    "# Check for duplicate user IDs in test data\n",
    "print(f\"Number of duplicate user IDs in test data: {test_df['id'].duplicated().sum()}\")"
   ]
  },
  {
   "cell_type": "markdown",
   "id": "a9672d15",
   "metadata": {},
   "source": [
    "Great, No Duplicates!"
   ]
  },
  {
   "cell_type": "markdown",
   "id": "946e1df3",
   "metadata": {},
   "source": [
    "## Date Format Analysis"
   ]
  },
  {
   "cell_type": "code",
   "execution_count": 43,
   "id": "a715323d",
   "metadata": {},
   "outputs": [
    {
     "name": "stdout",
     "output_type": "stream",
     "text": [
      "Sample date_account_created values:\n",
      "0    2010-06-28\n",
      "1    2011-05-25\n",
      "2    2010-09-28\n",
      "3    2011-12-05\n",
      "4    2010-09-14\n",
      "Name: date_account_created, dtype: object\n",
      "\n",
      "Sample timestamp_first_active values:\n",
      "0    20090319043255\n",
      "1    20090523174809\n",
      "2    20090609231247\n",
      "3    20091031060129\n",
      "4    20091208061105\n",
      "Name: timestamp_first_active, dtype: int64\n",
      "\n",
      "After conversion:\n",
      "  date_account_created timestamp_first_active\n",
      "0           2010-06-28    2009-03-19 04:32:55\n",
      "1           2011-05-25    2009-05-23 17:48:09\n",
      "2           2010-09-28    2009-06-09 23:12:47\n",
      "3           2011-12-05    2009-10-31 06:01:29\n",
      "4           2010-09-14    2009-12-08 06:11:05\n"
     ]
    }
   ],
   "source": [
    "# Examine date formats in training data\n",
    "print(\"Sample date_account_created values:\")\n",
    "print(train_df['date_account_created'].head())\n",
    "\n",
    "print(\"\\nSample timestamp_first_active values:\")\n",
    "print(train_df['timestamp_first_active'].head())\n",
    "\n",
    "# Convert date_account_created to datetime\n",
    "train_df['date_account_created'] = pd.to_datetime(train_df['date_account_created'])\n",
    "\n",
    "# Convert timestamp_first_active to datetime\n",
    "# The format appears to be YYYYMMDDHHMMSS\n",
    "train_df['timestamp_first_active'] = pd.to_datetime(train_df['timestamp_first_active'].astype(str), format='%Y%m%d%H%M%S')\n",
    "\n",
    "print(\"\\nAfter conversion:\")\n",
    "print(train_df[['date_account_created', 'timestamp_first_active']].head())"
   ]
  },
  {
   "cell_type": "markdown",
   "id": "2f4f7919",
   "metadata": {},
   "source": [
    "## Check for Extreme Values in Age"
   ]
  },
  {
   "cell_type": "code",
   "execution_count": 44,
   "id": "4c286974",
   "metadata": {},
   "outputs": [
    {
     "data": {
      "image/png": "[encoded data removed]",
      "text/plain": [
       "<Figure size 1000x600 with 1 Axes>"
      ]
     },
     "metadata": {},
     "output_type": "display_data"
    },
    {
     "name": "stdout",
     "output_type": "stream",
     "text": [
      "Age range: 1.0 - 2014.0\n",
      "Number of users with extreme age values (< 14 or > 100): 2402\n"
     ]
    }
   ],
   "source": [
    "# Plot age distribution\n",
    "plt.figure(figsize=(10, 6))\n",
    "sns.histplot(train_df['age'].dropna(), bins=50)\n",
    "plt.title('Age Distribution')\n",
    "plt.xlabel('Age')\n",
    "plt.ylabel('Count')\n",
    "plt.grid(True)\n",
    "plt.show()\n",
    "\n",
    "# Identify extreme values in age\n",
    "print(f\"Age range: {train_df['age'].min()} - {train_df['age'].max()}\")\n",
    "\n",
    "# Count users with age < 14 or > 100\n",
    "extreme_age_count = ((train_df['age'] < 14) | (train_df['age'] > 100)).sum()\n",
    "print(f\"Number of users with extreme age values (< 14 or > 100): {extreme_age_count}\")"
   ]
  },
  {
   "cell_type": "markdown",
   "id": "478b3823",
   "metadata": {},
   "source": [
    "## Visual Sanity Checks"
   ]
  },
  {
   "cell_type": "code",
   "execution_count": 45,
   "id": "e51485f8",
   "metadata": {},
   "outputs": [
    {
     "data": {
      "image/png": "[encoded data removed]",
      "text/plain": [
       "<Figure size 1000x600 with 1 Axes>"
      ]
     },
     "metadata": {},
     "output_type": "display_data"
    },
    {
     "data": {
      "image/png": "[encoded data removed]",
      "text/plain": [
       "<Figure size 1200x600 with 1 Axes>"
      ]
     },
     "metadata": {},
     "output_type": "display_data"
    },
    {
     "name": "stdout",
     "output_type": "stream",
     "text": [
      "Destination country percentage:\n"
     ]
    },
    {
     "data": {
      "text/plain": [
       "country_destination\n",
       "NDF     58.35\n",
       "US      29.22\n",
       "other    4.73\n",
       "FR       2.35\n",
       "IT       1.33\n",
       "GB       1.09\n",
       "ES       1.05\n",
       "CA       0.67\n",
       "DE       0.50\n",
       "NL       0.36\n",
       "AU       0.25\n",
       "PT       0.10\n",
       "Name: proportion, dtype: float64"
      ]
     },
     "execution_count": 45,
     "metadata": {},
     "output_type": "execute_result"
    }
   ],
   "source": [
    "# Gender distribution\n",
    "plt.figure(figsize=(10, 6))\n",
    "sns.countplot(x='gender', data=train_df)\n",
    "plt.title('Gender Distribution')\n",
    "plt.xlabel('Gender')\n",
    "plt.ylabel('Count')\n",
    "plt.grid(True)\n",
    "plt.show()\n",
    "\n",
    "# Destination country counts\n",
    "plt.figure(figsize=(12, 6))\n",
    "destination_counts = train_df['country_destination'].value_counts()\n",
    "sns.barplot(x=destination_counts.index, y=destination_counts.values)\n",
    "plt.title('Destination Country Distribution')\n",
    "plt.xlabel('Country')\n",
    "plt.ylabel('Count')\n",
    "plt.xticks(rotation=45)\n",
    "plt.grid(True)\n",
    "plt.show()\n",
    "\n",
    "print(\"Destination country percentage:\")\n",
    "destination_percentage = train_df['country_destination'].value_counts(normalize=True) * 100\n",
    "destination_percentage"
   ]
  },
  {
   "cell_type": "markdown",
   "id": "2c95adf3",
   "metadata": {},
   "source": [
    "## Session Data Analysis"
   ]
  },
  {
   "cell_type": "code",
   "execution_count": 46,
   "id": "34b90261",
   "metadata": {},
   "outputs": [
    {
     "name": "stdout",
     "output_type": "stream",
     "text": [
      "Number of unique action types: 360\n",
      "Sample action types:\n",
      "['lookup' 'search_results' 'personalize' 'index' 'similar_listings'\n",
      " 'ajax_refresh_subtotal' 'show' 'header_userpic' 'ask_question' nan]\n",
      "\n",
      "Number of unique action_types: 11\n",
      "Action_types:\n",
      "[nan 'click' 'data' 'view' 'submit' 'message_post' '-unknown-'\n",
      " 'booking_request' 'partner_callback' 'booking_response' 'modify']\n",
      "\n",
      "Number of unique action_details: 156\n",
      "Sample action_details:\n",
      "[nan 'view_search_results' 'wishlist_content_update' 'similar_listings'\n",
      " 'change_trip_characteristics' 'p3' 'header_userpic' 'contact_host'\n",
      " 'message_post' '-unknown-']\n"
     ]
    }
   ],
   "source": [
    "# Check unique action types in sessions data\n",
    "unique_actions = sessions_df['action'].unique()\n",
    "print(f\"Number of unique action types: {len(unique_actions)}\")\n",
    "print(\"Sample action types:\")\n",
    "print(unique_actions[:10])\n",
    "\n",
    "# Check unique action_types\n",
    "unique_action_types = sessions_df['action_type'].unique()\n",
    "print(f\"\\nNumber of unique action_types: {len(unique_action_types)}\")\n",
    "print(\"Action_types:\")\n",
    "print(unique_action_types)\n",
    "\n",
    "# Check unique action_details\n",
    "print(f\"\\nNumber of unique action_details: {len(sessions_df['action_detail'].unique())}\")\n",
    "print(\"Sample action_details:\")\n",
    "print(sessions_df['action_detail'].unique()[:10])"
   ]
  }
 ],
 "metadata": {
  "kernelspec": {
   "display_name": "base",
   "language": "python",
   "name": "python3"
  },
  "language_info": {
   "codemirror_mode": {
    "name": "ipython",
    "version": 3
   },
   "file_extension": ".py",
   "mimetype": "text/x-python",
   "name": "python",
   "nbconvert_exporter": "python",
   "pygments_lexer": "ipython3",
   "version": "3.12.3"
  }
 },
 "nbformat": 4,
 "nbformat_minor": 5
}
