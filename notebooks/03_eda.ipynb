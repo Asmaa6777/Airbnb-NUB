{
 "cells": [
  {
   "cell_type": "markdown",
   "id": "554c25ca",
   "metadata": {},
   "source": [
    "# 📊 Exploratory Data Analysis (EDA)\n",
    "\n",
    "This notebook focuses on discovering trends, correlations, and insights from the Airbnb New User Booking dataset. Through various visualizations, we'll explore relationships between user attributes and their booking destinations.\n",
    "\n",
    "## Objectives\n",
    "- Visualize key relationships between features and target variable\n",
    "- Identify patterns in user behavior and demographics\n",
    "- Discover potentially useful features for prediction\n",
    "- Gain insights to guide our modeling approach"
   ]
  },
  {
   "cell_type": "markdown",
   "id": "539a2428",
   "metadata": {},
   "source": [
    "## Import Required Libraries"
   ]
  },
  {
   "cell_type": "code",
   "execution_count": null,
   "id": "b0b6d1b0",
   "metadata": {},
   "outputs": [],
   "source": [
    "# Data manipulation\n",
    "import numpy as np\n",
    "import pandas as pd\n",
    "\n",
    "# Visualization\n",
    "import matplotlib.pyplot as plt\n",
    "import seaborn as sns\n",
    "import plotly.express as px\n",
    "import plotly.graph_objects as go\n",
    "from plotly.subplots import make_subplots\n",
    "\n",
    "# Dimensionality reduction\n",
    "from sklearn.decomposition import PCA\n",
    "from sklearn.manifold import TSNE\n",
    "\n",
    "# Others\n",
    "import warnings\n",
    "from pathlib import Path\n",
    "\n",
    "# Settings\n",
    "warnings.filterwarnings('ignore')\n",
    "plt.style.use('fivethirtyeight')\n",
    "plt.rcParams['figure.figsize'] = (12, 8)\n",
    "sns.set_palette('viridis')\n",
    "%matplotlib inline"
   ]
  },
  {
   "cell_type": "markdown",
   "id": "b45558c7",
   "metadata": {},
   "source": [
    "## Load Preprocessed Data\n",
    "\n",
    "We'll load the preprocessed data from the previous step. This data should have handled missing values, encoded categorical variables, and created new features."
   ]
  },
  {
   "cell_type": "code",
   "execution_count": null,
   "id": "75f14c17",
   "metadata": {},
   "outputs": [],
   "source": [
    "# Define paths\n",
    "data_path = Path('../data/processed')\n",
    "\n",
    "# Load preprocessed data\n",
    "df = pd.read_csv(data_path / 'preprocessed_train_users.csv')\n",
    "\n",
    "# Display basic information\n",
    "print(f\"Dataset shape: {df.shape}\")\n",
    "df.head()"
   ]
  },
  {
   "cell_type": "code",
   "execution_count": null,
   "id": "743fa043",
   "metadata": {},
   "outputs": [],
   "source": [
    "# Check column types and summary statistics\n",
    "df.info()"
   ]
  },
  {
   "cell_type": "code",
   "execution_count": null,
   "id": "71c60670",
   "metadata": {},
   "outputs": [],
   "source": [
    "# Check numerical statistics\n",
    "df.describe()"
   ]
  },
  {
   "cell_type": "markdown",
   "id": "3a064992",
   "metadata": {},
   "source": [
    "## Target Variable Analysis\n",
    "\n",
    "Let's first look at the distribution of our target variable: `country_destination`."
   ]
  },
  {
   "cell_type": "code",
   "execution_count": null,
   "id": "0390c9c0",
   "metadata": {},
   "outputs": [],
   "source": [
    "# Count the number of users in each destination\n",
    "dest_counts = df['country_destination'].value_counts().reset_index()\n",
    "dest_counts.columns = ['Country', 'Count']\n",
    "dest_counts['Percentage'] = 100 * dest_counts['Count'] / dest_counts['Count'].sum()\n",
    "\n",
    "# Create a bar plot\n",
    "plt.figure(figsize=(12, 6))\n",
    "sns.barplot(x='Country', y='Count', data=dest_counts, palette='viridis')\n",
    "plt.title('Distribution of Country Destinations', fontsize=16)\n",
    "plt.xlabel('Country', fontsize=14)\n",
    "plt.ylabel('Number of Users', fontsize=14)\n",
    "plt.xticks(rotation=45)\n",
    "for i, v in enumerate(dest_counts['Count']):\n",
    "    plt.text(i, v + 500, f'{dest_counts[\"Percentage\"][i]:.1f}%', ha='center', fontsize=10)\n",
    "plt.tight_layout()\n",
    "plt.show()\n",
    "\n",
    "# Create a pie chart\n",
    "plt.figure(figsize=(10, 10))\n",
    "plt.pie(dest_counts['Count'], labels=dest_counts['Country'], autopct='%1.1f%%', \n",
    "        startangle=90, shadow=True, explode=[0.05] * len(dest_counts))\n",
    "plt.title('Proportion of Users by Destination Country', fontsize=16)\n",
    "plt.axis('equal')\n",
    "plt.tight_layout()\n",
    "plt.show()"
   ]
  },
  {
   "cell_type": "markdown",
   "id": "d6c6ecc5",
   "metadata": {},
   "source": [
    "## Demographic Analysis\n",
    "\n",
    "### Age Distribution by Destination"
   ]
  },
  {
   "cell_type": "code",
   "execution_count": null,
   "id": "ebb334e6",
   "metadata": {},
   "outputs": [],
   "source": [
    "# Violin plot of age distribution by destination\n",
    "plt.figure(figsize=(14, 8))\n",
    "sns.violinplot(x='country_destination', y='age', data=df, palette='viridis', \n",
    "               inner='quartile', scale='width')\n",
    "plt.title('Age Distribution by Destination Country', fontsize=16)\n",
    "plt.xlabel('Country', fontsize=14)\n",
    "plt.ylabel('Age', fontsize=14)\n",
    "plt.grid(True, alpha=0.3)\n",
    "plt.tight_layout()\n",
    "plt.show()\n",
    "\n",
    "# Box plot for another view\n",
    "plt.figure(figsize=(14, 8))\n",
    "sns.boxplot(x='country_destination', y='age', data=df, palette='viridis')\n",
    "plt.title('Age Distribution by Destination Country (Box Plot)', fontsize=16)\n",
    "plt.xlabel('Country', fontsize=14)\n",
    "plt.ylabel('Age', fontsize=14)\n",
    "plt.grid(True, alpha=0.3)\n",
    "plt.tight_layout()\n",
    "plt.show()"
   ]
  },
  {
   "cell_type": "code",
   "execution_count": null,
   "id": "e0d0d6c4",
   "metadata": {},
   "outputs": [],
   "source": [
    "# Age group analysis\n",
    "# Create age groups\n",
    "bins = [0, 25, 35, 45, 55, 65, 100]\n",
    "labels = ['<25', '25-34', '35-44', '45-54', '55-64', '65+']\n",
    "df['age_group'] = pd.cut(df['age'], bins=bins, labels=labels, right=False)\n",
    "\n",
    "# Calculate percentages of each age group per destination\n",
    "age_dest = pd.crosstab(df['age_group'], df['country_destination'], normalize='columns') * 100\n",
    "\n",
    "# Plot heatmap\n",
    "plt.figure(figsize=(14, 8))\n",
    "sns.heatmap(age_dest, annot=True, cmap='viridis', fmt='.1f')\n",
    "plt.title('Age Group Distribution (%) by Destination Country', fontsize=16)\n",
    "plt.tight_layout()\n",
    "plt.show()"
   ]
  },
  {
   "cell_type": "markdown",
   "id": "8dd12607",
   "metadata": {},
   "source": [
    "### Gender Analysis"
   ]
  },
  {
   "cell_type": "code",
   "execution_count": null,
   "id": "33e6cd42",
   "metadata": {},
   "outputs": [],
   "source": [
    "# Gender distribution by destination\n",
    "gender_dest = pd.crosstab(df['gender'], df['country_destination'])\n",
    "gender_dest_pct = pd.crosstab(df['gender'], df['country_destination'], normalize='columns') * 100\n",
    "\n",
    "# Stacked bar chart\n",
    "gender_dest.plot(kind='bar', stacked=True, figsize=(14, 8), colormap='viridis')\n",
    "plt.title('Gender Distribution by Destination Country', fontsize=16)\n",
    "plt.xlabel('Gender', fontsize=14)\n",
    "plt.ylabel('Number of Users', fontsize=14)\n",
    "plt.grid(True, alpha=0.3)\n",
    "plt.tight_layout()\n",
    "plt.show()\n",
    "\n",
    "# Percentage view\n",
    "plt.figure(figsize=(14, 8))\n",
    "sns.heatmap(gender_dest_pct, annot=True, cmap='viridis', fmt='.1f')\n",
    "plt.title('Gender Distribution (%) by Destination Country', fontsize=16)\n",
    "plt.tight_layout()\n",
    "plt.show()"
   ]
  },
  {
   "cell_type": "markdown",
   "id": "a6f2971e",
   "metadata": {},
   "source": [
    "## Marketing Channel Analysis"
   ]
  },
  {
   "cell_type": "code",
   "execution_count": null,
   "id": "4196a47d",
   "metadata": {},
   "outputs": [],
   "source": [
    "# First affiliate tracked distribution\n",
    "top_affiliates = df['first_affiliate_tracked'].value_counts().nlargest(10)\n",
    "\n",
    "plt.figure(figsize=(12, 6))\n",
    "sns.barplot(x=top_affiliates.index, y=top_affiliates.values, palette='viridis')\n",
    "plt.title('Top 10 First Affiliate Tracked', fontsize=16)\n",
    "plt.xlabel('Affiliate', fontsize=14)\n",
    "plt.ylabel('Count', fontsize=14)\n",
    "plt.xticks(rotation=45)\n",
    "plt.tight_layout()\n",
    "plt.show()\n",
    "\n",
    "# Affiliate tracked vs destination\n",
    "affiliate_dest = pd.crosstab(df['first_affiliate_tracked'], df['country_destination'], normalize='index') * 100\n",
    "\n",
    "plt.figure(figsize=(14, 10))\n",
    "sns.heatmap(affiliate_dest, annot=True, cmap='viridis', fmt='.1f')\n",
    "plt.title('Destination Distribution (%) by First Affiliate Tracked', fontsize=16)\n",
    "plt.tight_layout()\n",
    "plt.show()"
   ]
  },
  {
   "cell_type": "code",
   "execution_count": null,
   "id": "bdc559d1",
   "metadata": {},
   "outputs": [],
   "source": [
    "# Marketing channel signup flows\n",
    "signup_flows = df['signup_flow'].value_counts().nlargest(10)\n",
    "\n",
    "plt.figure(figsize=(12, 6))\n",
    "sns.barplot(x=signup_flows.index, y=signup_flows.values, palette='viridis')\n",
    "plt.title('Top 10 Signup Flows', fontsize=16)\n",
    "plt.xlabel('Signup Flow', fontsize=14)\n",
    "plt.ylabel('Count', fontsize=14)\n",
    "plt.tight_layout()\n",
    "plt.show()\n",
    "\n",
    "# Signup flow vs destination\n",
    "flow_dest = pd.crosstab(df['signup_flow'], df['country_destination'])\n",
    "flow_dest_pct = pd.crosstab(df['signup_flow'], df['country_destination'], normalize='index') * 100\n",
    "\n",
    "# Focus on top 6 flows for readability\n",
    "top_flows = signup_flows.nlargest(6).index\n",
    "flow_dest_pct_filtered = flow_dest_pct.loc[top_flows]\n",
    "\n",
    "plt.figure(figsize=(14, 8))\n",
    "sns.heatmap(flow_dest_pct_filtered, annot=True, cmap='viridis', fmt='.1f')\n",
    "plt.title('Destination Distribution (%) by Top Signup Flows', fontsize=16)\n",
    "plt.tight_layout()\n",
    "plt.show()"
   ]
  },
  {
   "cell_type": "markdown",
   "id": "e98ca247",
   "metadata": {},
   "source": [
    "## Device and Browser Analysis"
   ]
  },
  {
   "cell_type": "code",
   "execution_count": null,
   "id": "8426b041",
   "metadata": {},
   "outputs": [],
   "source": [
    "# Device type analysis\n",
    "device_counts = df['first_device_type'].value_counts()\n",
    "\n",
    "# Create a pie chart for device distribution\n",
    "plt.figure(figsize=(12, 8))\n",
    "plt.pie(device_counts, labels=device_counts.index, autopct='%1.1f%%', \n",
    "        startangle=90, shadow=True, \n",
    "        explode=[0.05 if i < 3 else 0 for i in range(len(device_counts))])\n",
    "plt.title('Distribution of First Device Type', fontsize=16)\n",
    "plt.axis('equal')\n",
    "plt.tight_layout()\n",
    "plt.show()\n",
    "\n",
    "# Device type vs destination\n",
    "# Focus on top devices for readability\n",
    "top_devices = device_counts.nlargest(6).index\n",
    "device_dest = pd.crosstab(df['first_device_type'], df['country_destination'])\n",
    "device_dest_pct = pd.crosstab(df['first_device_type'], df['country_destination'], normalize='index') * 100\n",
    "device_dest_pct_filtered = device_dest_pct.loc[top_devices]\n",
    "\n",
    "plt.figure(figsize=(14, 8))\n",
    "sns.heatmap(device_dest_pct_filtered, annot=True, cmap='viridis', fmt='.1f')\n",
    "plt.title('Destination Distribution (%) by First Device Type', fontsize=16)\n",
    "plt.tight_layout()\n",
    "plt.show()"
   ]
  },
  {
   "cell_type": "code",
   "execution_count": null,
   "id": "cb4dafed",
   "metadata": {},
   "outputs": [],
   "source": [
    "# Browser analysis\n",
    "browser_counts = df['first_browser'].value_counts().nlargest(10)\n",
    "\n",
    "plt.figure(figsize=(14, 6))\n",
    "sns.barplot(x=browser_counts.index, y=browser_counts.values, palette='viridis')\n",
    "plt.title('Top 10 First Browsers', fontsize=16)\n",
    "plt.xlabel('Browser', fontsize=14)\n",
    "plt.ylabel('Count', fontsize=14)\n",
    "plt.xticks(rotation=45)\n",
    "plt.tight_layout()\n",
    "plt.show()\n",
    "\n",
    "# Browser vs destination\n",
    "# Focus on top browsers for readability\n",
    "top_browsers = browser_counts.nlargest(6).index\n",
    "browser_dest_pct = pd.crosstab(df['first_browser'], df['country_destination'], normalize='index') * 100\n",
    "browser_dest_pct_filtered = browser_dest_pct.loc[top_browsers]\n",
    "\n",
    "plt.figure(figsize=(14, 8))\n",
    "sns.heatmap(browser_dest_pct_filtered, annot=True, cmap='viridis', fmt='.1f')\n",
    "plt.title('Destination Distribution (%) by Top Browsers', fontsize=16)\n",
    "plt.tight_layout()\n",
    "plt.show()"
   ]
  },
  {
   "cell_type": "markdown",
   "id": "8af21b1e",
   "metadata": {},
   "source": [
    "## User Behavior Analysis\n",
    "\n",
    "Let's analyze some of the engineered features related to user behavior."
   ]
  },
  {
   "cell_type": "code",
   "execution_count": null,
   "id": "06fec82a",
   "metadata": {},
   "outputs": [],
   "source": [
    "# Check if we have the engineered features\n",
    "behavior_features = ['days_before_signup', 'signup_day_of_week', 'signup_weekend']\n",
    "existing_behavior_features = [col for col in behavior_features if col in df.columns]\n",
    "\n",
    "if existing_behavior_features:\n",
    "    print(f\"Found engineered behavior features: {existing_behavior_features}\")\n",
    "else:\n",
    "    print(\"No engineered behavior features found. Creating basic ones for analysis.\")\n",
    "    \n",
    "    # Create some basic features if they don't exist\n",
    "    if 'date_account_created' in df.columns and 'timestamp_first_active' in df.columns:\n",
    "        # Convert to datetime\n",
    "        df['date_account_created'] = pd.to_datetime(df['date_account_created'])\n",
    "        df['timestamp_first_active'] = pd.to_datetime(df['timestamp_first_active'], format='%Y%m%d%H%M%S')\n",
    "        \n",
    "        # Calculate days between first active and account creation\n",
    "        df['days_before_signup'] = (df['date_account_created'] - df['timestamp_first_active']).dt.days\n",
    "        \n",
    "        # Day of week\n",
    "        df['signup_day_of_week'] = df['date_account_created'].dt.dayofweek\n",
    "        df['signup_weekend'] = df['signup_day_of_week'].isin([5, 6]).astype(int)"
   ]
  },
  {
   "cell_type": "code",
   "execution_count": null,
   "id": "8ca698c0",
   "metadata": {},
   "outputs": [],
   "source": [
    "# Analyze days before signup\n",
    "if 'days_before_signup' in df.columns:\n",
    "    plt.figure(figsize=(14, 6))\n",
    "    sns.histplot(df['days_before_signup'], bins=50, kde=True)\n",
    "    plt.title('Distribution of Days Between First Activity and Signup', fontsize=16)\n",
    "    plt.xlabel('Days', fontsize=14)\n",
    "    plt.ylabel('Count', fontsize=14)\n",
    "    plt.xlim(-10, 30)  # Focus on a reasonable range\n",
    "    plt.grid(True, alpha=0.3)\n",
    "    plt.tight_layout()\n",
    "    plt.show()\n",
    "    \n",
    "    # Days before signup vs destination\n",
    "    plt.figure(figsize=(14, 6))\n",
    "    sns.boxplot(x='country_destination', y='days_before_signup', data=df)\n",
    "    plt.title('Days Before Signup by Destination', fontsize=16)\n",
    "    plt.xlabel('Country', fontsize=14)\n",
    "    plt.ylabel('Days', fontsize=14)\n",
    "    plt.ylim(-5, 15)  # Focus on a reasonable range\n",
    "    plt.grid(True, alpha=0.3)\n",
    "    plt.tight_layout()\n",
    "    plt.show()"
   ]
  },
  {
   "cell_type": "code",
   "execution_count": null,
   "id": "a8eb76b5",
   "metadata": {},
   "outputs": [],
   "source": [
    "# Analyze signup day of week\n",
    "if 'signup_day_of_week' in df.columns:\n",
    "    days = ['Monday', 'Tuesday', 'Wednesday', 'Thursday', 'Friday', 'Saturday', 'Sunday']\n",
    "    day_counts = df['signup_day_of_week'].value_counts().sort_index()\n",
    "    \n",
    "    plt.figure(figsize=(12, 6))\n",
    "    sns.barplot(x=[days[i] for i in day_counts.index], y=day_counts.values, palette='viridis')\n",
    "    plt.title('Distribution of Signup Day of Week', fontsize=16)\n",
    "    plt.xlabel('Day', fontsize=14)\n",
    "    plt.ylabel('Count', fontsize=14)\n",
    "    plt.grid(True, alpha=0.3)\n",
    "    plt.tight_layout()\n",
    "    plt.show()\n",
    "    \n",
    "    # Weekend vs weekday booking destinations\n",
    "    if 'signup_weekend' in df.columns:\n",
    "        weekend_dest = pd.crosstab(df['signup_weekend'], df['country_destination'])\n",
    "        weekend_dest.index = ['Weekday', 'Weekend']\n",
    "        weekend_dest_pct = pd.crosstab(df['signup_weekend'], df['country_destination'], normalize='index') * 100\n",
    "        weekend_dest_pct.index = ['Weekday', 'Weekend']\n",
    "        \n",
    "        plt.figure(figsize=(14, 6))\n",
    "        sns.heatmap(weekend_dest_pct, annot=True, cmap='viridis', fmt='.1f')\n",
    "        plt.title('Destination Distribution (%) by Weekend vs Weekday Signup', fontsize=16)\n",
    "        plt.tight_layout()\n",
    "        plt.show()"
   ]
  },
  {
   "cell_type": "markdown",
   "id": "f3411e50",
   "metadata": {},
   "source": [
    "## Correlation Analysis\n",
    "\n",
    "Let's examine correlations between numerical features and look for multicollinearity."
   ]
  },
  {
   "cell_type": "code",
   "execution_count": null,
   "id": "bc9d985c",
   "metadata": {},
   "outputs": [],
   "source": [
    "# Check which columns are numerical\n",
    "numerical_cols = df.select_dtypes(include=['int64', 'float64']).columns.tolist()\n",
    "print(f\"Numerical columns: {numerical_cols}\")"
   ]
  },
  {
   "cell_type": "code",
   "execution_count": null,
   "id": "6a8bb886",
   "metadata": {},
   "outputs": [],
   "source": [
    "# Correlation matrix\n",
    "correlation_matrix = df[numerical_cols].corr()\n",
    "\n",
    "# Plot correlation heatmap\n",
    "plt.figure(figsize=(16, 12))\n",
    "mask = np.triu(correlation_matrix)\n",
    "sns.heatmap(correlation_matrix, annot=True, cmap='coolwarm', fmt='.2f', mask=mask)\n",
    "plt.title('Correlation Matrix of Numerical Features', fontsize=16)\n",
    "plt.tight_layout()\n",
    "plt.show()"
   ]
  },
  {
   "cell_type": "markdown",
   "id": "707463c1",
   "metadata": {},
   "source": [
    "## Dimensionality Reduction and Feature Visualization\n",
    "\n",
    "Let's use PCA and t-SNE to visualize the high-dimensional data."
   ]
  },
  {
   "cell_type": "code",
   "execution_count": null,
   "id": "e0011250",
   "metadata": {},
   "outputs": [],
   "source": [
    "# Prepare data for dimensionality reduction\n",
    "# Select only numerical columns and categorical columns that have been encoded\n",
    "feature_cols = numerical_cols.copy()\n",
    "\n",
    "# Remove any target-related or ID columns\n",
    "for col in ['id', 'country_destination']:\n",
    "    if col in feature_cols:\n",
    "        feature_cols.remove(col)\n",
    "\n",
    "# Check if we have enough features\n",
    "if len(feature_cols) < 2:\n",
    "    print(\"Not enough numerical features for dimensionality reduction.\")\n",
    "else:\n",
    "    # Standardize the features (important for PCA and t-SNE)\n",
    "    from sklearn.preprocessing import StandardScaler\n",
    "    X = df[feature_cols].fillna(0)  # Replace NaNs with 0 for this visualization\n",
    "    X_scaled = StandardScaler().fit_transform(X)\n",
    "    \n",
    "    print(f\"Performing dimensionality reduction with {X_scaled.shape[1]} features\")"
   ]
  },
  {
   "cell_type": "code",
   "execution_count": null,
   "id": "eb0c9c56",
   "metadata": {},
   "outputs": [],
   "source": [
    "# PCA\n",
    "if 'X_scaled' in locals() and X_scaled.shape[1] >= 2:\n",
    "    # Apply PCA\n",
    "    pca = PCA(n_components=2)\n",
    "    pca_result = pca.fit_transform(X_scaled)\n",
    "    \n",
    "    # Create a DataFrame for easier plotting\n",
    "    pca_df = pd.DataFrame(data=pca_result, columns=['PC1', 'PC2'])\n",
    "    pca_df['country_destination'] = df['country_destination'].values\n",
    "    \n",
    "    # Plot PCA results\n",
    "    plt.figure(figsize=(14, 10))\n",
    "    sns.scatterplot(x='PC1', y='PC2', hue='country_destination', data=pca_df, \n",
    "                    palette='viridis', s=50, alpha=0.7)\n",
    "    plt.title('PCA: 2D Projection of User Features by Destination', fontsize=16)\n",
    "    plt.xlabel(f'Principal Component 1 ({pca.explained_variance_ratio_[0]:.2%} variance)', fontsize=14)\n",
    "    plt.ylabel(f'Principal Component 2 ({pca.explained_variance_ratio_[1]:.2%} variance)', fontsize=14)\n",
    "    plt.grid(True, alpha=0.3)\n",
    "    plt.legend(title='Destination', bbox_to_anchor=(1.05, 1), loc='upper left')\n",
    "    plt.tight_layout()\n",
    "    plt.show()\n",
    "    \n",
    "    # Print explained variance\n",
    "    print(f\"Total variance explained by 2 principal components: {sum(pca.explained_variance_ratio_):.2%}\")"
   ]
  },
  {
   "cell_type": "code",
   "execution_count": null,
   "id": "64f2c363",
   "metadata": {},
   "outputs": [],
   "source": [
    "# t-SNE (can be slow on large datasets)\n",
    "if 'X_scaled' in locals() and X_scaled.shape[1] >= 2:\n",
    "    # Take a sample if dataset is large\n",
    "    sample_size = min(5000, X_scaled.shape[0])\n",
    "    indices = np.random.choice(X_scaled.shape[0], sample_size, replace=False)\n",
    "    X_sample = X_scaled[indices]\n",
    "    y_sample = df['country_destination'].iloc[indices]\n",
    "    \n",
    "    print(f\"Applying t-SNE on a sample of {sample_size} observations...\")\n",
    "    \n",
    "    # Apply t-SNE\n",
    "    tsne = TSNE(n_components=2, perplexity=30, n_iter=300, random_state=42)\n",
    "    tsne_result = tsne.fit_transform(X_sample)\n",
    "    \n",
    "    # Create a DataFrame for easier plotting\n",
    "    tsne_df = pd.DataFrame(data=tsne_result, columns=['TSNE1', 'TSNE2'])\n",
    "    tsne_df['country_destination'] = y_sample.values\n",
    "    \n",
    "    # Plot t-SNE results\n",
    "    plt.figure(figsize=(14, 10))\n",
    "    sns.scatterplot(x='TSNE1', y='TSNE2', hue='country_destination', data=tsne_df, \n",
    "                   palette='viridis', s=50, alpha=0.7)\n",
    "    plt.title('t-SNE: 2D Projection of User Features by Destination', fontsize=16)\n",
    "    plt.xlabel('t-SNE Component 1', fontsize=14)\n",
    "    plt.ylabel('t-SNE Component 2', fontsize=14)\n",
    "    plt.grid(True, alpha=0.3)\n",
    "    plt.legend(title='Destination', bbox_to_anchor=(1.05, 1), loc='upper left')\n",
    "    plt.tight_layout()\n",
    "    plt.show()"
   ]
  }
 ],
 "metadata": {
  "kernelspec": {
   "display_name": "Python 3",
   "language": "python",
   "name": "python3"
  },
  "language_info": {
   "codemirror_mode": {
    "name": "ipython",
    "version": 3
   },
   "file_extension": ".py",
   "mimetype": "text/x-python",
   "name": "python",
   "nbconvert_exporter": "python",
   "pygments_lexer": "ipython3",
   "version": "3.8.10"
  }
 },
 "nbformat": 4,
 "nbformat_minor": 5
}
